{
  "cells": [
    {
      "cell_type": "markdown",
      "metadata": {
        "id": "iKuLRawJy-Z_"
      },
      "source": [
        "# 1. Introdução aos Métodos Probabilísticos"
      ]
    },
    {
      "cell_type": "markdown",
      "metadata": {
        "id": "2VzK72RWy-aA"
      },
      "source": [
        "## 1.1. Contextualização: O que são métodos probabilísticos e onde são aplicados?\n",
        "Métodos probabilísticos são técnicas matemáticas e estatísticas utilizadas para modelar, analisar e prever eventos que são incertos ou aleatórios. Ao contrário dos métodos determinísticos, que fornecem resultados exatos para um conjunto de entradas específico, os métodos probabilísticos lidam com a incerteza e fornecem uma gama de possíveis resultados com diferentes probabilidades associadas.\n",
        "\n",
        "Esses métodos são aplicados em uma ampla variedade de campos, incluindo:\n",
        "- **Finanças**: Para prever a movimentação de preços de ações ou modelar o risco em portfólios de investimento.\n",
        "- **Engenharia**: No projeto de sistemas que devem operar sob incertezas, como sistemas de comunicação ou sistemas de energia.\n",
        "- **Ciência**: Na modelagem de experimentos onde o resultado é incerto ou na análise de dados experimentais.\n",
        "- **Medicina**: Para prever a progressão de doenças ou a eficácia de um tratamento.\n",
        "- **Inteligência Artificial e Aprendizado de Máquina**: Para modelar a incerteza em previsões e tomada de decisões.\n"
      ]
    },
    {
      "cell_type": "markdown",
      "metadata": {
        "id": "ifwx38MNy-aB"
      },
      "source": [
        "## Comparação: Naive Bayes vs. Redes Neurais\n",
        "\n",
        "### Naive Bayes\n",
        "- **Base probabilística**:\n",
        "  - O Naive Bayes é fundamentalmente um algoritmo probabilístico. Utiliza o Teorema de Bayes para calcular as probabilidades condicionais.\n",
        "  \n",
        "- **Suposições**:\n",
        "  - Uma suposição chave do Naive Bayes é que os atributos são condicionalmente independentes entre si, dada a classe. Isso é muitas vezes uma suposição \"ingênua\", daí o nome.\n",
        "  \n",
        "- **Complexidade e desempenho**:\n",
        "  - Em geral, o Naive Bayes é mais simples e rápido. Ideal para conjuntos de dados de alta dimensionalidade.\n",
        "\n",
        "### Redes Neurais\n",
        "- **Base probabilística**:\n",
        "  - Redes Neurais, por outro lado, não são fundamentalmente métodos probabilísticos como o Naive Bayes, mas certos aspectos, como a função de ativação softmax, têm interpretações probabilísticas.\n",
        "  \n",
        "- **Arquitetura e Mecanismo**:\n",
        "  - São compostas por camadas de neurônios. Esses neurônios são ajustados para aprender representações dos dados e as relações entre os atributos.\n",
        "  \n",
        "- **Suposições**:\n",
        "  - Redes Neurais não partem da suposição de independência dos atributos. Podem modelar interações complexas entre atributos.\n",
        "  \n",
        "- **Complexidade e desempenho**:\n",
        "  - São modelos mais complexos, muitas vezes necessitam de mais dados para treinamento e mais tempo computacional."
      ]
    },
    {
      "cell_type": "markdown",
      "metadata": {
        "id": "AQiwKoWgy-aC"
      },
      "source": [
        "\n",
        "## 1.2. Diferença entre métodos determinísticos e probabilísticos\n",
        "A principal diferença entre os métodos determinísticos e probabilísticos reside em como eles lidam com a incerteza.\n",
        "\n",
        "**Métodos Determinísticos**:\n",
        "- Produzem um único resultado ou solução para um conjunto específico de entradas.\n",
        "- Baseiam-se na premissa de que o sistema ou problema é completamente conhecido e que não há incerteza.\n",
        "\n",
        "**Métodos Probabilísticos**:\n",
        "- Fornecem uma gama de possíveis soluções ou resultados, cada um com uma probabilidade associada.\n",
        "- São usados quando há incerteza no sistema ou problema, seja devido à falta de conhecimento, variação inerente ou ambos.\n"
      ]
    },
    {
      "cell_type": "markdown",
      "metadata": {
        "id": "OJL1UbrWy-aD"
      },
      "source": [
        "\n",
        "## 1.3. Importância dos métodos probabilísticos em cenários incertos\n",
        "Em muitos cenários do mundo real, a incerteza é uma característica inerente. Em tais situações, confiar apenas em métodos determinísticos pode levar a conclusões imprecisas ou decisões subótimas. Os métodos probabilísticos, ao reconhecerem e incorporarem essa incerteza, permitem uma modelagem e análise mais robusta.\n",
        "\n",
        "A importância dos métodos probabilísticos em cenários incertos inclui:\n",
        "- **Tomada de Decisão Informada**: Ao fornecer uma gama de possíveis resultados com probabilidades associadas, os decisores podem avaliar os riscos e benefícios de diferentes ações.\n",
        "- **Robustez em Previsões**: Em vez de uma única previsão pontual, os métodos probabilísticos oferecem uma distribuição de possíveis resultados.\n",
        "- **Otimização sob Incerteza**: Em problemas de otimização, os métodos probabilísticos podem ajudar a encontrar soluções que são robustas a variações ou incertezas no sistema."
      ]
    },
    {
      "cell_type": "markdown",
      "metadata": {
        "id": "5o3Ob_Cpy-aD"
      },
      "source": [
        "# 2. Teoria de Probabilidade Básica (revisão rápida)"
      ]
    },
    {
      "cell_type": "markdown",
      "metadata": {
        "id": "4nVvh4L3y-aD"
      },
      "source": [
        "## 2.1. Conceito de Probabilidade\n",
        "\n",
        "Probabilidade é a maneira de expressarmos matematicamente quão provável é a ocorrência de um determinado evento. Podemos pensar nisso como uma forma de medir as chances de algo acontecer.\n",
        "\n",
        "- **Impossível**: O evento nunca acontecerá (Probabilidade = 0).\n",
        "- **Certo**: O evento certamente acontecerá (Probabilidade = 1).\n",
        "\n",
        "A fórmula para calcular a probabilidade de um evento A é:\n",
        "\n",
        "P(A) = número de maneiras que A pode ocorrer / número total de possíveis ocorrências\n",
        "\n",
        "**Exemplo**: Pense em jogar um dado comum, que tem lados numerados de 1 a 6. A chance, ou probabilidade, de jogarmos o dado e obtermos o número 3 é de 1 em 6. Escrevendo isso como uma fração, temos:\n",
        "\n",
        "P(3) = 1/6"
      ]
    },
    {
      "cell_type": "markdown",
      "metadata": {
        "id": "GheJiI77y-aE"
      },
      "source": [
        "## 2.2. Teorema de Bayes\n",
        "\n",
        "O Teorema de Bayes nos permite encontrar a probabilidade de um evento ocorrer, com base em novas evidências. É uma forma de combinar nosso conhecimento prévio (o que já sabemos) com novas informações (dados novos) para obter uma visão mais precisa da realidade.\n",
        "\n",
        "A fórmula do Teorema de Bayes é:\n",
        "\n",
        "P(A|B) = (P(B|A) x P(A)) / P(B)\n",
        "\n",
        "Onde:\n",
        "\n",
        "- P(A|B) é nossa nova visão sobre a probabilidade de A acontecer, dado que B ocorreu.\n",
        "- P(B|A) é a chance de B acontecer, assumindo que A ocorreu.\n",
        "- P(A) é a probabilidade original de A ocorrer (antes de sabermos sobre B).\n",
        "- P(B) é a chance total de B acontecer.\n",
        "\n",
        "Com o Teorema de Bayes, podemos refinar nossa compreensão sobre as chances de algo acontecer com base nas novas informações que recebemos.\n"
      ]
    },
    {
      "cell_type": "markdown",
      "metadata": {
        "id": "BYVk7N9zy-aE"
      },
      "source": [
        "## 2.3. Eventos independentes e dependência condicional\n",
        "\n",
        "**Eventos independentes**:\n",
        "- Dois eventos A e B são considerados independentes se a ocorrência de um não afeta a ocorrência do outro. Matematicamente, isso é expresso como \"P de A intersecção B\"  P(A ∩ B) = P(A) × P(B).\n",
        "\n",
        "**Exemplo**: Jogar um dado duas vezes. O resultado do primeiro lançamento não afeta o resultado do segundo lançamento.\n",
        "\n",
        "**Dependência condicional**:\n",
        "- A probabilidade de um evento A dado que um evento B já ocorreu é chamada de probabilidade condicional e é denotada por \"P de A dado B\"\" P(A|B). Se A e B são independentes, então P(A|B) = P(A). Caso contrário, a dependência condicional existe.\n",
        "\n",
        "**Exemplo**: A probabilidade de alguém comprar um guarda-chuva, dado que está chovendo, é maior do que a probabilidade de comprar um guarda-chuva sem tal condição.\n",
        "\n"
      ]
    },
    {
      "cell_type": "markdown",
      "metadata": {
        "id": "Q1VBHLSdy-aE"
      },
      "source": [
        "# 3. Introdução ao Algoritmo Naive Bayes\n"
      ]
    },
    {
      "cell_type": "markdown",
      "metadata": {
        "id": "pXMjUhffy-aF"
      },
      "source": [
        "\n",
        "## 3.1. Origens e princípio do algoritmo\n",
        "O algoritmo Naive Bayes é baseado no Teorema de Bayes, uma fórmula matemática que descreve como atualizar probabilidades com novas evidências. O algoritmo foi nomeado em homenagem ao reverendo Thomas Bayes, que forneceu a primeira fórmula para inferir a probabilidade de um evento A, dado o conhecimento prévio de eventos que podem estar relacionados a A.\n",
        "\n",
        "O princípio fundamental do Naive Bayes é usar a probabilidade de características (ou atributos) observadas em dados para fazer previsões ou classificações. Por exemplo, se quisermos prever se um e-mail é spam ou não, poderíamos usar a frequência de certas palavras no e-mail para fazer essa previsão.\n"
      ]
    },
    {
      "cell_type": "markdown",
      "metadata": {
        "id": "NTpFhGtxy-aF"
      },
      "source": [
        "\n",
        "## 3.2. A suposição \"Naive\": Por que é \"ingênuo\"?\n",
        "A característica \"ingênua\" do Naive Bayes refere-se à suposição fundamental de que cada característica (ou atributo) é independente das outras. Isso significa que a presença (ou ausência) de uma característica não afeta a presença (ou ausência) de qualquer outra.\n",
        "\n",
        "Esta é uma suposição bastante forte e muitas vezes não reflete a realidade dos dados. No entanto, apesar desta suposição simplista, o Naive Bayes muitas vezes funciona surpreendentemente bem em muitas aplicações práticas, especialmente quando a dimensionalidade dos dados é alta.\n"
      ]
    },
    {
      "cell_type": "markdown",
      "metadata": {
        "id": "DSVIZp_Jy-aF"
      },
      "source": [
        "\n",
        "## 3.3. Aplicações práticas do Naive Bayes\n",
        "O Naive Bayes é usado em uma variedade de aplicações, incluindo:\n",
        "\n",
        "- **Classificação de texto**: Como classificar e-mails como spam ou não spam, categorização de notícias, análise de sentimento, etc.\n",
        "- **Reconhecimento de padrões**: Na detecção de rostos em imagens, por exemplo.\n",
        "- **Sistemas de recomendação**: Para recomendar produtos ou serviços com base em características de uso.\n",
        "- **Diagnóstico médico**: Para diagnosticar doenças com base em sintomas.\n",
        "\n",
        "A simplicidade e eficiência do Naive Bayes o tornam adequado para conjuntos de dados de alta dimensão e situações onde a velocidade é uma preocupação.\n"
      ]
    },
    {
      "cell_type": "code",
      "execution_count": 8,
      "metadata": {
        "id": "wKmztN5ky-aF"
      },
      "outputs": [],
      "source": [
        "from sklearn.model_selection import train_test_split\n",
        "from sklearn.naive_bayes import GaussianNB\n",
        "import pandas as pd\n",
        "from sklearn.preprocessing import StandardScaler, MinMaxScaler\n",
        "import numpy as np\n",
        "import matplotlib.pyplot as plt\n",
        "import seaborn as sns\n",
        "from sklearn.metrics import confusion_matrix, classification_report\n"
      ]
    },
    {
      "cell_type": "code",
      "execution_count": 9,
      "metadata": {
        "id": "rYeZrF27y-aG"
      },
      "outputs": [],
      "source": [
        "df = pd.read_csv('data/flores.csv')"
      ]
    },
    {
      "cell_type": "code",
      "execution_count": 10,
      "metadata": {
        "colab": {
          "base_uri": "https://localhost:8080/",
          "height": 206
        },
        "id": "wqWG6l5Jy-aG",
        "outputId": "5a2d629a-6593-4b3d-d727-b5f00e0e1e8e"
      },
      "outputs": [
        {
          "data": {
            "text/html": [
              "<div>\n",
              "<style scoped>\n",
              "    .dataframe tbody tr th:only-of-type {\n",
              "        vertical-align: middle;\n",
              "    }\n",
              "\n",
              "    .dataframe tbody tr th {\n",
              "        vertical-align: top;\n",
              "    }\n",
              "\n",
              "    .dataframe thead th {\n",
              "        text-align: right;\n",
              "    }\n",
              "</style>\n",
              "<table border=\"1\" class=\"dataframe\">\n",
              "  <thead>\n",
              "    <tr style=\"text-align: right;\">\n",
              "      <th></th>\n",
              "      <th>sepal_length</th>\n",
              "      <th>sepal_width</th>\n",
              "      <th>petal_length</th>\n",
              "      <th>petal_width</th>\n",
              "      <th>species</th>\n",
              "    </tr>\n",
              "  </thead>\n",
              "  <tbody>\n",
              "    <tr>\n",
              "      <th>0</th>\n",
              "      <td>4.6</td>\n",
              "      <td>3.1</td>\n",
              "      <td>1.5</td>\n",
              "      <td>0.2</td>\n",
              "      <td>0</td>\n",
              "    </tr>\n",
              "    <tr>\n",
              "      <th>1</th>\n",
              "      <td>5.9</td>\n",
              "      <td>3.0</td>\n",
              "      <td>5.1</td>\n",
              "      <td>1.8</td>\n",
              "      <td>2</td>\n",
              "    </tr>\n",
              "    <tr>\n",
              "      <th>2</th>\n",
              "      <td>5.1</td>\n",
              "      <td>2.5</td>\n",
              "      <td>3.0</td>\n",
              "      <td>1.1</td>\n",
              "      <td>1</td>\n",
              "    </tr>\n",
              "    <tr>\n",
              "      <th>3</th>\n",
              "      <td>4.6</td>\n",
              "      <td>3.4</td>\n",
              "      <td>1.4</td>\n",
              "      <td>0.3</td>\n",
              "      <td>0</td>\n",
              "    </tr>\n",
              "    <tr>\n",
              "      <th>4</th>\n",
              "      <td>6.2</td>\n",
              "      <td>2.2</td>\n",
              "      <td>4.5</td>\n",
              "      <td>1.5</td>\n",
              "      <td>1</td>\n",
              "    </tr>\n",
              "  </tbody>\n",
              "</table>\n",
              "</div>"
            ],
            "text/plain": [
              "   sepal_length  sepal_width  petal_length  petal_width  species\n",
              "0           4.6          3.1           1.5          0.2        0\n",
              "1           5.9          3.0           5.1          1.8        2\n",
              "2           5.1          2.5           3.0          1.1        1\n",
              "3           4.6          3.4           1.4          0.3        0\n",
              "4           6.2          2.2           4.5          1.5        1"
            ]
          },
          "execution_count": 10,
          "metadata": {},
          "output_type": "execute_result"
        }
      ],
      "source": [
        "df.head()"
      ]
    },
    {
      "cell_type": "code",
      "execution_count": 11,
      "metadata": {
        "id": "BraHHPLpy-aG"
      },
      "outputs": [
        {
          "name": "stdout",
          "output_type": "stream",
          "text": [
            "<class 'pandas.core.frame.DataFrame'>\n",
            "RangeIndex: 150 entries, 0 to 149\n",
            "Data columns (total 5 columns):\n",
            " #   Column        Non-Null Count  Dtype  \n",
            "---  ------        --------------  -----  \n",
            " 0   sepal_length  150 non-null    float64\n",
            " 1   sepal_width   150 non-null    float64\n",
            " 2   petal_length  150 non-null    float64\n",
            " 3   petal_width   150 non-null    float64\n",
            " 4   species       150 non-null    int64  \n",
            "dtypes: float64(4), int64(1)\n",
            "memory usage: 6.0 KB\n"
          ]
        }
      ],
      "source": [
        "df.info()"
      ]
    },
    {
      "cell_type": "code",
      "execution_count": 12,
      "metadata": {
        "id": "KgWZrdxsy-aG"
      },
      "outputs": [],
      "source": [
        "# Separar os dados em X (atributos) e y (classe alvo)\n",
        "X = df.drop(columns=['species'])\n",
        "y = df['species']"
      ]
    },
    {
      "cell_type": "code",
      "execution_count": 13,
      "metadata": {
        "id": "P7O4kB7Fy-aG"
      },
      "outputs": [],
      "source": [
        "# Dividindo os dados em conjuntos de treinamento e teste (20%)\n",
        "X_train, X_test, y_train, y_test = train_test_split(X, y, test_size=0.2, random_state=0)"
      ]
    },
    {
      "cell_type": "markdown",
      "metadata": {
        "id": "YV5QYYl6y-aH"
      },
      "source": [
        "# Normalização de Dados no Algoritmo Naive Bayes\n",
        "\n",
        "A aplicação da normalização em algoritmos de aprendizado de máquina é um tópico importante e, no caso do Naive Bayes, depende da variação específica que você está usando.\n",
        "\n",
        "## Gaussian Naive Bayes\n",
        "### Características:\n",
        "- **Aplicação:** Comumente usado para características contínuas.\n",
        "- **Suposição:** Assume que os dados para cada classe seguem uma distribuição normal.\n",
        "\n",
        "### Normalização:\n",
        "- **Necessidade:** É geralmente uma boa prática normalizar os dados para torná-los mais próximos de uma distribuição normal.\n",
        "- **Método Sugerido:** StandardScaler, pois transforma os dados para ter média 0 e desvio padrão 1.\n",
        "\n",
        "## Multinomial Naive Bayes e Bernoulli Naive Bayes\n",
        "\n",
        "### Características:\n",
        "- **Aplicação Multinomial NB:** Comumente usado para contagens ou características discretas, como contagem de palavras em classificação de texto.\n",
        "- **Aplicação Bernoulli NB:** Usado para características binárias.\n",
        "\n",
        "### Normalização:\n",
        "- **Necessidade para Multinomial NB:** Não é essencial, mas é importante garantir que todos os valores sejam não-negativos.\n",
        "- **Método Sugerido para Multinomial NB:** MinMaxScaler para garantir que os valores sejam não-negativos.\n",
        "- **Necessidade para Bernoulli NB:** Certificar-se de que as características são binárias (0 ou 1).\n",
        "\n",
        "## Impacto do Scaling:\n",
        "- **Impacto Geral:** Muitos algoritmos de machine learning são sensíveis à escala das características.\n",
        "- **Especificidade do Naive Bayes:** As probabilidades são baseadas na distribuição dos dados. Se os dados forem dimensionados, as probabilidades calculadas mudarão, mas as decisões de classificação geralmente permanecerão as mesmas.\n",
        "  \n",
        "## Conclusão:\n",
        "- Para **Gaussian NB**, é uma boa prática normalizar os dados.\n",
        "- Para **Multinomial e Bernoulli NB**, garantir que os dados estejam no formato correto é mais importante do que a normalização em si.\n",
        "- **Finalidade da Normalização:** Pode não afetar diretamente a decisão de classificação, mas ajuda em termos de convergência e estabilidade numérica, especialmente quando outros algoritmos são usados em conjunto ou durante o treinamento com métodos de otimização iterativos."
      ]
    },
    {
      "cell_type": "code",
      "execution_count": 14,
      "metadata": {
        "id": "af-_mjH9y-aH"
      },
      "outputs": [],
      "source": [
        "# Inicializando o normalizador\n",
        "scaler = StandardScaler()\n",
        "\n",
        "# A função fit_transform calcula a média e o desvio padrão dos dados de treinamento\n",
        "# e então usa esses valores para normalizá-los.\n",
        "X_train = scaler.fit_transform(X_train)\n",
        "\n",
        "# A função transform usa a média e o desvio padrão previamente computados com fit_transform\n",
        "# no conjunto de treinamento para normalizar o conjunto de teste.\n",
        "X_test = scaler.transform(X_test)"
      ]
    },
    {
      "cell_type": "code",
      "execution_count": 15,
      "metadata": {
        "id": "WhMw9DTOy-aH"
      },
      "outputs": [],
      "source": [
        "# Inicializa uma instância do modelo\n",
        "gnb = GaussianNB()\n",
        "\n",
        "# Treinando o modelo Naive Bayes\n",
        "gnb.fit(X_train, y_train)\n",
        "\n",
        "# Realiza previs~oes com o modelo treinado\n",
        "y_pred = gnb.predict(X_test)"
      ]
    },
    {
      "cell_type": "code",
      "execution_count": 16,
      "metadata": {
        "colab": {
          "base_uri": "https://localhost:8080/",
          "height": 872
        },
        "id": "0z2zmOwyy-aH",
        "outputId": "5ec630ba-742f-49e4-f8ed-60d824140de0"
      },
      "outputs": [
        {
          "data": {
            "image/png": "[encoded data removed]",
            "text/plain": [
              "<Figure size 1000x700 with 2 Axes>"
            ]
          },
          "metadata": {},
          "output_type": "display_data"
        },
        {
          "name": "stdout",
          "output_type": "stream",
          "text": [
            "\n",
            "Relatório de Classificação:\n",
            "               precision    recall  f1-score   support\n",
            "\n",
            "           0       1.00      1.00      1.00        12\n",
            "           1       1.00      0.88      0.93         8\n",
            "           2       0.91      1.00      0.95        10\n",
            "\n",
            "    accuracy                           0.97        30\n",
            "   macro avg       0.97      0.96      0.96        30\n",
            "weighted avg       0.97      0.97      0.97        30\n",
            "\n"
          ]
        }
      ],
      "source": [
        "# Matriz de Confusão\n",
        "cm = confusion_matrix(y_test, y_pred)\n",
        "\n",
        "# Plotando a Matriz de Confusão com heatmap\n",
        "plt.figure(figsize=(10,7))\n",
        "sns.set(font_scale=1.4) # para definir o tamanho da fonte\n",
        "sns.heatmap(cm, annot=True, annot_kws={\"size\": 16}, cmap='Blues', fmt='g') # 'fmt' evita números científicos na matriz\n",
        "plt.ylabel('Valores Verdadeiros')\n",
        "plt.xlabel('Predições')\n",
        "plt.title('Matriz de Confusão')\n",
        "plt.show()\n",
        "\n",
        "# Imprimindo métricas relevantes\n",
        "print(\"\\nRelatório de Classificação:\\n\", classification_report(y_test, y_pred))"
      ]
    },
    {
      "cell_type": "markdown",
      "metadata": {
        "id": "qzsxgS6ty-aH"
      },
      "source": [
        "# 4. Detalhamento do Algoritmo Naive Bayes\n",
        "\n",
        "## 4.1. Probabilidade a priori, probabilidade a posteriori, verossimilhança e evidência\n",
        "\n",
        "- **Probabilidade a priori (Prior Probability, P(A))**: É a probabilidade inicial ou intrínseca de um evento ocorrer, sem levar em conta qualquer evidência adicional. Por exemplo, em um problema de classificação, a probabilidade a priori pode ser a proporção geral de cada classe no conjunto de dados.\n",
        "\n",
        "- **Probabilidade a posteriori (Posterior Probability, P(A|B))**: É a probabilidade revisada de um evento A ocorrer, levando em conta uma nova evidência B. No contexto do Naive Bayes, refere-se à probabilidade de uma instância pertencer a uma determinada classe, dadas suas características.\n",
        "\n",
        "- **Verossimilhança (Likelihood, P(B|A))**: Descreve a probabilidade de observar a evidência (B) dado que um evento (A) ocorreu. No Naive Bayes, é a probabilidade das características de uma instância, dada sua classe.\n",
        "\n",
        "- **Evidência (Evidence, P(B))**: É a probabilidade geral da evidência (sem levar em consideração a classe). No contexto do Naive Bayes, geralmente é calculada como a soma das verossimilhanças ponderadas pelas probabilidades a priori."
      ]
    },
    {
      "cell_type": "markdown",
      "metadata": {
        "id": "PIq1SvgFy-aH"
      },
      "source": [
        "## 4.2. Formulação Matemática do Naive Bayes\n",
        "\n",
        "A base para o algoritmo Naive Bayes é o Teorema de Bayes. A fórmula para este teorema, no contexto do algoritmo, é:\n",
        "\n",
        "\\[ P(y|X) = \\frac{P(X|y) \\times P(y)}{P(X)} \\]\n",
        "\n",
        "### Explicação dos Termos:\n",
        "- **P(y|X)**: Esta é a probabilidade posterior da classe 'y' dado o vetor de características 'X'.\n",
        "- **P(X|y)**: Conhecida como verossimilhança, representa a probabilidade do vetor 'X' sendo observado, dado que a classe é 'y'.\n",
        "- **P(y)**: Representa a probabilidade a priori da classe 'y'. Em outras palavras, a probabilidade geral ou inicial de 'y' independentemente das características.\n",
        "- **P(X)**: Esta é a probabilidade do vetor de características 'X'. Também conhecido como evidência.\n",
        "\n",
        "Dado que o Naive Bayes opera sob uma suposição de independência, a verossimilhança, \\( P(X|y) \\), é calculada como o produto das probabilidades individuais de cada característica."
      ]
    },
    {
      "cell_type": "markdown",
      "metadata": {
        "id": "rDcSvGYky-aI"
      },
      "source": [
        "\n",
        "## 4.3. Cálculo das Probabilidades usando Máxima Verossimilhança\n",
        "\n",
        "Quando se trata de calcular as probabilidades para o Naive Bayes, uma abordagem comum é utilizar o método de máxima verossimilhança (ou MLE, do inglês Maximum Likelihood Estimation).\n",
        "\n",
        "### O que é MLE?\n",
        "MLE é uma técnica estatística usada para estimar os parâmetros de um modelo. No caso do Naive Bayes, é empregado para estimar a verossimilhança, \\( P(X|y) \\).\n",
        "\n",
        "### Como funciona?\n",
        "Para cada característica presente no dataset, a probabilidade dessa característica ocorrer para uma determinada classe é calculada. O MLE, basicamente, ajusta os parâmetros de modo que a probabilidade observada dos dados (dada a parametrização) seja maximizada.\n",
        "\n",
        "### Aplicação no Naive Bayes:\n",
        "Em situações práticas, especialmente quando lidamos com características discretas, o MLE pode ser calculado como a proporção da ocorrência de uma característica para uma classe específica em relação ao total de observações daquela classe.\n"
      ]
    },
    {
      "cell_type": "markdown",
      "metadata": {
        "id": "2I-0320Fy-aI"
      },
      "source": [
        "\n",
        "## 4.4. Estimativa a Posteriori Máxima (MAP)\n",
        "\n",
        "A Estimativa a Posteriori Máxima é uma alternativa ao MLE para calcular as probabilidades em modelos estatísticos, incluindo o Naive Bayes.\n",
        "\n",
        "### Diferença entre MLE e MAP:\n",
        "\n",
        "- **MLE**: Foca na maximização da verossimilhança dos dados observados. Não leva em consideração qualquer informação a priori (ou pré-existente) sobre os parâmetros que está tentando estimar.\n",
        "  \n",
        "- **MAP**: Combina a verossimilhança dos dados observados (como no MLE) com uma distribuição a priori sobre os parâmetros. O objetivo é encontrar os parâmetros que maximizem a probabilidade posterior.\n",
        "\n",
        "### Como funciona no Naive Bayes?\n",
        "\n",
        "- Em Naive Bayes, quando estimamos a probabilidade de uma característica dada uma classe, podemos incorporar um \"prior\" (informação prévia) sobre essa probabilidade. Isso é especialmente útil quando os dados são escassos ou para evitar o problema de probabilidade zero (por exemplo, se uma característica nunca ocorreu com uma determinada classe nos dados de treinamento).\n",
        "\n",
        "- Em termos práticos, isso é frequentemente feito através de uma técnica chamada **\"suavização de Laplace\"** ou **\"add-one smoothing\"**. O princípio básico é adicionar uma pequena quantidade (como 1) ao numerador e ao denominador ao calcular as probabilidades. Isso garante que nenhuma probabilidade seja exatamente zero, o que pode ser problemático em cálculos posteriores.\n",
        "\n",
        "### Benefícios do MAP no Naive Bayes:\n",
        "\n",
        "1. **Evita Probabilidades Zero**: Como mencionado, evita o cenário onde uma característica que nunca foi observada em treinamento leva a uma probabilidade zero na classificação.\n",
        "  \n",
        "2. **Incorpora Informação a Priori**: Se houver algum conhecimento prévio sobre as probabilidades das características, ele pode ser incorporado no cálculo usando MAP.\n",
        "\n",
        "3. **Robustez com Dados Escassos**: Em situações onde os dados de treinamento são limitados, a suavização pode ajudar a fazer estimativas mais robustas."
      ]
    },
    {
      "cell_type": "code",
      "execution_count": 17,
      "metadata": {
        "id": "PR-gq91Fy-aI"
      },
      "outputs": [],
      "source": [
        "df = pd.read_csv('data/fraud_detection_bank_dataset.csv')"
      ]
    },
    {
      "cell_type": "code",
      "execution_count": 18,
      "metadata": {
        "colab": {
          "base_uri": "https://localhost:8080/",
          "height": 236
        },
        "id": "yH4x1LAZy-aI",
        "outputId": "64c2fcff-41ca-4012-b2d5-6bf51c45dcd9"
      },
      "outputs": [
        {
          "data": {
            "text/html": [
              "<div>\n",
              "<style scoped>\n",
              "    .dataframe tbody tr th:only-of-type {\n",
              "        vertical-align: middle;\n",
              "    }\n",
              "\n",
              "    .dataframe tbody tr th {\n",
              "        vertical-align: top;\n",
              "    }\n",
              "\n",
              "    .dataframe thead th {\n",
              "        text-align: right;\n",
              "    }\n",
              "</style>\n",
              "<table border=\"1\" class=\"dataframe\">\n",
              "  <thead>\n",
              "    <tr style=\"text-align: right;\">\n",
              "      <th></th>\n",
              "      <th>Unnamed: 0</th>\n",
              "      <th>col_0</th>\n",
              "      <th>col_1</th>\n",
              "      <th>col_2</th>\n",
              "      <th>col_3</th>\n",
              "      <th>col_4</th>\n",
              "      <th>col_5</th>\n",
              "      <th>col_6</th>\n",
              "      <th>col_7</th>\n",
              "      <th>col_8</th>\n",
              "      <th>...</th>\n",
              "      <th>col_103</th>\n",
              "      <th>col_104</th>\n",
              "      <th>col_105</th>\n",
              "      <th>col_106</th>\n",
              "      <th>col_107</th>\n",
              "      <th>col_108</th>\n",
              "      <th>col_109</th>\n",
              "      <th>col_110</th>\n",
              "      <th>col_111</th>\n",
              "      <th>targets</th>\n",
              "    </tr>\n",
              "  </thead>\n",
              "  <tbody>\n",
              "    <tr>\n",
              "      <th>0</th>\n",
              "      <td>0</td>\n",
              "      <td>9</td>\n",
              "      <td>1354</td>\n",
              "      <td>0</td>\n",
              "      <td>18</td>\n",
              "      <td>0</td>\n",
              "      <td>1</td>\n",
              "      <td>7</td>\n",
              "      <td>9</td>\n",
              "      <td>0</td>\n",
              "      <td>...</td>\n",
              "      <td>0</td>\n",
              "      <td>0</td>\n",
              "      <td>0</td>\n",
              "      <td>1</td>\n",
              "      <td>1</td>\n",
              "      <td>0</td>\n",
              "      <td>0</td>\n",
              "      <td>0</td>\n",
              "      <td>49</td>\n",
              "      <td>1</td>\n",
              "    </tr>\n",
              "    <tr>\n",
              "      <th>1</th>\n",
              "      <td>1</td>\n",
              "      <td>0</td>\n",
              "      <td>239</td>\n",
              "      <td>0</td>\n",
              "      <td>1</td>\n",
              "      <td>0</td>\n",
              "      <td>1</td>\n",
              "      <td>0</td>\n",
              "      <td>0</td>\n",
              "      <td>0</td>\n",
              "      <td>...</td>\n",
              "      <td>0</td>\n",
              "      <td>1</td>\n",
              "      <td>0</td>\n",
              "      <td>0</td>\n",
              "      <td>0</td>\n",
              "      <td>0</td>\n",
              "      <td>0</td>\n",
              "      <td>0</td>\n",
              "      <td>55</td>\n",
              "      <td>1</td>\n",
              "    </tr>\n",
              "    <tr>\n",
              "      <th>2</th>\n",
              "      <td>2</td>\n",
              "      <td>0</td>\n",
              "      <td>260</td>\n",
              "      <td>0</td>\n",
              "      <td>4</td>\n",
              "      <td>0</td>\n",
              "      <td>3</td>\n",
              "      <td>6</td>\n",
              "      <td>0</td>\n",
              "      <td>0</td>\n",
              "      <td>...</td>\n",
              "      <td>0</td>\n",
              "      <td>0</td>\n",
              "      <td>0</td>\n",
              "      <td>1</td>\n",
              "      <td>1</td>\n",
              "      <td>0</td>\n",
              "      <td>0</td>\n",
              "      <td>0</td>\n",
              "      <td>56</td>\n",
              "      <td>1</td>\n",
              "    </tr>\n",
              "    <tr>\n",
              "      <th>3</th>\n",
              "      <td>3</td>\n",
              "      <td>17</td>\n",
              "      <td>682</td>\n",
              "      <td>0</td>\n",
              "      <td>1</td>\n",
              "      <td>0</td>\n",
              "      <td>0</td>\n",
              "      <td>8</td>\n",
              "      <td>17</td>\n",
              "      <td>0</td>\n",
              "      <td>...</td>\n",
              "      <td>0</td>\n",
              "      <td>1</td>\n",
              "      <td>0</td>\n",
              "      <td>1</td>\n",
              "      <td>1</td>\n",
              "      <td>0</td>\n",
              "      <td>0</td>\n",
              "      <td>0</td>\n",
              "      <td>65</td>\n",
              "      <td>1</td>\n",
              "    </tr>\n",
              "    <tr>\n",
              "      <th>4</th>\n",
              "      <td>4</td>\n",
              "      <td>1</td>\n",
              "      <td>540</td>\n",
              "      <td>0</td>\n",
              "      <td>2</td>\n",
              "      <td>0</td>\n",
              "      <td>1</td>\n",
              "      <td>7</td>\n",
              "      <td>1</td>\n",
              "      <td>0</td>\n",
              "      <td>...</td>\n",
              "      <td>0</td>\n",
              "      <td>0</td>\n",
              "      <td>0</td>\n",
              "      <td>1</td>\n",
              "      <td>1</td>\n",
              "      <td>0</td>\n",
              "      <td>0</td>\n",
              "      <td>0</td>\n",
              "      <td>175</td>\n",
              "      <td>1</td>\n",
              "    </tr>\n",
              "  </tbody>\n",
              "</table>\n",
              "<p>5 rows × 114 columns</p>\n",
              "</div>"
            ],
            "text/plain": [
              "   Unnamed: 0  col_0  col_1  col_2  col_3  col_4  col_5  col_6  col_7  col_8  \\\n",
              "0           0      9   1354      0     18      0      1      7      9      0   \n",
              "1           1      0    239      0      1      0      1      0      0      0   \n",
              "2           2      0    260      0      4      0      3      6      0      0   \n",
              "3           3     17    682      0      1      0      0      8     17      0   \n",
              "4           4      1    540      0      2      0      1      7      1      0   \n",
              "\n",
              "   ...  col_103  col_104  col_105  col_106  col_107  col_108  col_109  \\\n",
              "0  ...        0        0        0        1        1        0        0   \n",
              "1  ...        0        1        0        0        0        0        0   \n",
              "2  ...        0        0        0        1        1        0        0   \n",
              "3  ...        0        1        0        1        1        0        0   \n",
              "4  ...        0        0        0        1        1        0        0   \n",
              "\n",
              "   col_110  col_111  targets  \n",
              "0        0       49        1  \n",
              "1        0       55        1  \n",
              "2        0       56        1  \n",
              "3        0       65        1  \n",
              "4        0      175        1  \n",
              "\n",
              "[5 rows x 114 columns]"
            ]
          },
          "execution_count": 18,
          "metadata": {},
          "output_type": "execute_result"
        }
      ],
      "source": [
        "df.head()"
      ]
    },
    {
      "cell_type": "code",
      "execution_count": 19,
      "metadata": {
        "colab": {
          "base_uri": "https://localhost:8080/"
        },
        "id": "azMXWbE7y-aI",
        "outputId": "1ebb9310-5e7f-4502-88dc-1442b344844f"
      },
      "outputs": [
        {
          "data": {
            "text/plain": [
              "(20468, 114)"
            ]
          },
          "execution_count": 19,
          "metadata": {},
          "output_type": "execute_result"
        }
      ],
      "source": [
        "df.shape"
      ]
    },
    {
      "cell_type": "code",
      "execution_count": 20,
      "metadata": {
        "colab": {
          "base_uri": "https://localhost:8080/"
        },
        "id": "OpWb1XIpy-aI",
        "outputId": "61b00b79-1b52-4a36-8ee3-380806209966"
      },
      "outputs": [
        {
          "name": "stdout",
          "output_type": "stream",
          "text": [
            "<class 'pandas.core.frame.DataFrame'>\n",
            "RangeIndex: 20468 entries, 0 to 20467\n",
            "Columns: 114 entries, Unnamed: 0 to targets\n",
            "dtypes: float64(1), int64(113)\n",
            "memory usage: 17.8 MB\n"
          ]
        }
      ],
      "source": [
        "df.info()"
      ]
    },
    {
      "cell_type": "code",
      "execution_count": 21,
      "metadata": {
        "colab": {
          "base_uri": "https://localhost:8080/"
        },
        "id": "6ehSKU7Uy-aI",
        "outputId": "1048868b-bdf4-45eb-c02c-4dbb40206882"
      },
      "outputs": [
        {
          "data": {
            "text/plain": [
              "Unnamed: 0    0\n",
              "col_0         0\n",
              "col_1         0\n",
              "col_2         0\n",
              "col_3         0\n",
              "             ..\n",
              "col_108       0\n",
              "col_109       0\n",
              "col_110       0\n",
              "col_111       0\n",
              "targets       0\n",
              "Length: 114, dtype: int64"
            ]
          },
          "execution_count": 21,
          "metadata": {},
          "output_type": "execute_result"
        }
      ],
      "source": [
        "df.isna().sum()"
      ]
    },
    {
      "cell_type": "code",
      "execution_count": 22,
      "metadata": {
        "colab": {
          "base_uri": "https://localhost:8080/"
        },
        "id": "i5cJY_iJy-aJ",
        "outputId": "fdff7915-effd-453f-bff2-9689a76493d9"
      },
      "outputs": [
        {
          "data": {
            "text/plain": [
              "array([0, 0, 0, 0, 0, 0, 0, 0, 0, 0, 0, 0, 0, 0, 0, 0, 0, 0, 0, 0, 0, 0,\n",
              "       0, 0, 0, 0, 0, 0, 0, 0, 0, 0, 0, 0, 0, 0, 0, 0, 0, 0, 0, 0, 0, 0,\n",
              "       0, 0, 0, 0, 0, 0, 0, 0, 0, 0, 0, 0, 0, 0, 0, 0, 0, 0, 0, 0, 0, 0,\n",
              "       0, 0, 0, 0, 0, 0, 0, 0, 0, 0, 0, 0, 0, 0, 0, 0, 0, 0, 0, 0, 0, 0,\n",
              "       0, 0, 0, 0, 0, 0, 0, 0, 0, 0, 0, 0, 0, 0, 0, 0, 0, 0, 0, 0, 0, 0,\n",
              "       0, 0, 0, 0], dtype=int64)"
            ]
          },
          "execution_count": 22,
          "metadata": {},
          "output_type": "execute_result"
        }
      ],
      "source": [
        "(df.isna().sum()).values"
      ]
    },
    {
      "cell_type": "code",
      "execution_count": 23,
      "metadata": {
        "colab": {
          "base_uri": "https://localhost:8080/"
        },
        "id": "S3Bdfao5y-aJ",
        "outputId": "a2d5cd70-42c2-4773-df7f-2df92e07f728"
      },
      "outputs": [
        {
          "data": {
            "text/plain": [
              "0"
            ]
          },
          "execution_count": 23,
          "metadata": {},
          "output_type": "execute_result"
        }
      ],
      "source": [
        "(df.isna().sum()).values.max()"
      ]
    },
    {
      "cell_type": "code",
      "execution_count": 24,
      "metadata": {
        "colab": {
          "base_uri": "https://localhost:8080/"
        },
        "id": "THB5s7CVy-aJ",
        "outputId": "ad2a96a6-d06d-4f27-e0ae-4d1735fb9f14"
      },
      "outputs": [
        {
          "data": {
            "text/plain": [
              "targets\n",
              "0    15030\n",
              "1     5438\n",
              "Name: count, dtype: int64"
            ]
          },
          "execution_count": 24,
          "metadata": {},
          "output_type": "execute_result"
        }
      ],
      "source": [
        "df.targets.value_counts()"
      ]
    },
    {
      "cell_type": "markdown",
      "metadata": {
        "id": "_OljzcDSy-aJ"
      },
      "source": [
        "## Naive Bayes e Classes Desbalanceadas na Classificação\n",
        "\n",
        "### 1. O que são Classes Desbalanceadas?\n",
        "- Classes desbalanceadas ocorrem quando uma categoria (ou classe) em um conjunto de dados tem muito mais amostras em comparação com outra(s).\n",
        "- Por exemplo, em um conjunto de dados sobre detecção de fraude, a maioria das transações é legítima (classe majoritária) enquanto apenas uma pequena porcentagem é fraudulenta (classe minoritária).\n",
        "\n",
        "### 2. Problemas com Classes Desbalanceadas\n",
        "- Modelos treinados em dados desbalanceados podem apresentar um desempenho enviesado, favorecendo frequentemente a classe majoritária.\n",
        "- A métrica de acurácia pode ser enganosamente alta, já que prever sempre a classe majoritária pode ainda resultar em uma alta taxa de acertos.\n",
        "\n",
        "### 3. Naive Bayes e o Desbalanceamento\n",
        "- **Probabilidade a Priori (P(y))**:\n",
        "  - No Naive Bayes, a probabilidade a priori de cada classe é calculada com base na frequência relativa dos dados de treinamento.\n",
        "  - Em um conjunto de dados desbalanceado, a classe majoritária terá uma probabilidade a priori mais alta, o que pode inclinar o modelo em sua direção.\n",
        "  \n",
        "- **Influência na Classificação**:\n",
        "  - A probabilidade a posteriori (resultado do Naive Bayes) pode ser enviesada pela alta probabilidade a priori da classe majoritária.\n",
        "  - Isso pode levar a uma tendência na predição da classe majoritária, mesmo quando algumas características são mais indicativas da classe minoritária.\n",
        "\n",
        "### 4. Soluções para o Desbalanceamento com Naive Bayes\n",
        "- **Reamostragem**: Inclui técnicas como oversampling (aumentar a quantidade de exemplos da classe minoritária) e undersampling (reduzir a quantidade de exemplos da classe majoritária).\n",
        "- **Utilizar Métricas Adequadas**: Evitar confiar apenas na acurácia. Utilizar outras métricas como precisão, recall, F1-score, especialmente para a classe minoritária.\n",
        "- **Modificar Pesos das Classes**: Algumas implementações mais complexas do Naive Bayes permitem que se atribuam pesos diferentes para as classes, compensando o desbalanceamento.\n"
      ]
    },
    {
      "cell_type": "markdown",
      "metadata": {
        "id": "NfCcfq9Ny-aJ"
      },
      "source": [
        "## Escolha do Algoritmo Naive Bayes e Normalização\n",
        "\n",
        "Dado o problema em mãos, onde temos características numéricas contínuas como 'glucose no sangue' e 'bloodpressure', o **Gaussian Naive Bayes** é a escolha mais apropriada. Isto porque:\n",
        "- **GaussianNB**: É adequado para características contínuas, pois assume que os dados seguem uma distribuição normal (gaussiana) para cada classe.\n",
        "\n",
        "Quanto à normalização, a opção escolhida é a **StandardScaler**:\n",
        "- A GaussianNB assume que os dados seguem uma distribuição normal. Usando o `StandardScaler`, transformamos os dados para ter média 0 e desvio padrão 1, tornando-os mais próximos de uma distribuição normal.\n",
        "\n",
        "### Escolha da Técnica de Estimativa\n",
        "\n",
        "- **Máxima Verossimilhança (MLE)**: É o método padrão para estimar as probabilidades. Adequado quando temos uma quantidade razoável de dados.\n",
        "  \n",
        "- **Estimativa a Posteriori Máxima (MAP)**: Incorpora uma informação prévia (prior) sobre as probabilidades. Útil quando os dados são escassos ou para evitar o problema de probabilidade zero.\n",
        "\n",
        "Vamos aplicar ambos os métodos para comparar os resultados na prática.\n"
      ]
    },
    {
      "cell_type": "code",
      "execution_count": 76,
      "metadata": {
        "id": "hLVv8nyVy-aJ"
      },
      "outputs": [
        {
          "ename": "KeyError",
          "evalue": "\"['targets'] not found in axis\"",
          "output_type": "error",
          "traceback": [
            "\u001b[1;31m---------------------------------------------------------------------------\u001b[0m",
            "\u001b[1;31mKeyError\u001b[0m                                  Traceback (most recent call last)",
            "Cell \u001b[1;32mIn[76], line 2\u001b[0m\n\u001b[0;32m      1\u001b[0m \u001b[38;5;66;03m# Separar os dados em X (atributos) e y (classe alvo)\u001b[39;00m\n\u001b[1;32m----> 2\u001b[0m X \u001b[38;5;241m=\u001b[39m \u001b[43mdf\u001b[49m\u001b[38;5;241;43m.\u001b[39;49m\u001b[43mdrop\u001b[49m\u001b[43m(\u001b[49m\u001b[43mcolumns\u001b[49m\u001b[38;5;241;43m=\u001b[39;49m\u001b[43m[\u001b[49m\u001b[38;5;124;43m'\u001b[39;49m\u001b[38;5;124;43mtargets\u001b[39;49m\u001b[38;5;124;43m'\u001b[39;49m\u001b[43m]\u001b[49m\u001b[43m)\u001b[49m\n\u001b[0;32m      3\u001b[0m y \u001b[38;5;241m=\u001b[39m df[\u001b[38;5;124m'\u001b[39m\u001b[38;5;124mtargets\u001b[39m\u001b[38;5;124m'\u001b[39m]\n",
            "File \u001b[1;32m~\\AppData\\Local\\Packages\\PythonSoftwareFoundation.Python.3.11_qbz5n2kfra8p0\\LocalCache\\local-packages\\Python311\\site-packages\\pandas\\core\\frame.py:5344\u001b[0m, in \u001b[0;36mDataFrame.drop\u001b[1;34m(self, labels, axis, index, columns, level, inplace, errors)\u001b[0m\n\u001b[0;32m   5196\u001b[0m \u001b[38;5;28;01mdef\u001b[39;00m \u001b[38;5;21mdrop\u001b[39m(\n\u001b[0;32m   5197\u001b[0m     \u001b[38;5;28mself\u001b[39m,\n\u001b[0;32m   5198\u001b[0m     labels: IndexLabel \u001b[38;5;241m|\u001b[39m \u001b[38;5;28;01mNone\u001b[39;00m \u001b[38;5;241m=\u001b[39m \u001b[38;5;28;01mNone\u001b[39;00m,\n\u001b[1;32m   (...)\u001b[0m\n\u001b[0;32m   5205\u001b[0m     errors: IgnoreRaise \u001b[38;5;241m=\u001b[39m \u001b[38;5;124m\"\u001b[39m\u001b[38;5;124mraise\u001b[39m\u001b[38;5;124m\"\u001b[39m,\n\u001b[0;32m   5206\u001b[0m ) \u001b[38;5;241m-\u001b[39m\u001b[38;5;241m>\u001b[39m DataFrame \u001b[38;5;241m|\u001b[39m \u001b[38;5;28;01mNone\u001b[39;00m:\n\u001b[0;32m   5207\u001b[0m \u001b[38;5;250m    \u001b[39m\u001b[38;5;124;03m\"\"\"\u001b[39;00m\n\u001b[0;32m   5208\u001b[0m \u001b[38;5;124;03m    Drop specified labels from rows or columns.\u001b[39;00m\n\u001b[0;32m   5209\u001b[0m \n\u001b[1;32m   (...)\u001b[0m\n\u001b[0;32m   5342\u001b[0m \u001b[38;5;124;03m            weight  1.0     0.8\u001b[39;00m\n\u001b[0;32m   5343\u001b[0m \u001b[38;5;124;03m    \"\"\"\u001b[39;00m\n\u001b[1;32m-> 5344\u001b[0m     \u001b[38;5;28;01mreturn\u001b[39;00m \u001b[38;5;28;43msuper\u001b[39;49m\u001b[43m(\u001b[49m\u001b[43m)\u001b[49m\u001b[38;5;241;43m.\u001b[39;49m\u001b[43mdrop\u001b[49m\u001b[43m(\u001b[49m\n\u001b[0;32m   5345\u001b[0m \u001b[43m        \u001b[49m\u001b[43mlabels\u001b[49m\u001b[38;5;241;43m=\u001b[39;49m\u001b[43mlabels\u001b[49m\u001b[43m,\u001b[49m\n\u001b[0;32m   5346\u001b[0m \u001b[43m        \u001b[49m\u001b[43maxis\u001b[49m\u001b[38;5;241;43m=\u001b[39;49m\u001b[43maxis\u001b[49m\u001b[43m,\u001b[49m\n\u001b[0;32m   5347\u001b[0m \u001b[43m        \u001b[49m\u001b[43mindex\u001b[49m\u001b[38;5;241;43m=\u001b[39;49m\u001b[43mindex\u001b[49m\u001b[43m,\u001b[49m\n\u001b[0;32m   5348\u001b[0m \u001b[43m        \u001b[49m\u001b[43mcolumns\u001b[49m\u001b[38;5;241;43m=\u001b[39;49m\u001b[43mcolumns\u001b[49m\u001b[43m,\u001b[49m\n\u001b[0;32m   5349\u001b[0m \u001b[43m        \u001b[49m\u001b[43mlevel\u001b[49m\u001b[38;5;241;43m=\u001b[39;49m\u001b[43mlevel\u001b[49m\u001b[43m,\u001b[49m\n\u001b[0;32m   5350\u001b[0m \u001b[43m        \u001b[49m\u001b[43minplace\u001b[49m\u001b[38;5;241;43m=\u001b[39;49m\u001b[43minplace\u001b[49m\u001b[43m,\u001b[49m\n\u001b[0;32m   5351\u001b[0m \u001b[43m        \u001b[49m\u001b[43merrors\u001b[49m\u001b[38;5;241;43m=\u001b[39;49m\u001b[43merrors\u001b[49m\u001b[43m,\u001b[49m\n\u001b[0;32m   5352\u001b[0m \u001b[43m    \u001b[49m\u001b[43m)\u001b[49m\n",
            "File \u001b[1;32m~\\AppData\\Local\\Packages\\PythonSoftwareFoundation.Python.3.11_qbz5n2kfra8p0\\LocalCache\\local-packages\\Python311\\site-packages\\pandas\\core\\generic.py:4711\u001b[0m, in \u001b[0;36mNDFrame.drop\u001b[1;34m(self, labels, axis, index, columns, level, inplace, errors)\u001b[0m\n\u001b[0;32m   4709\u001b[0m \u001b[38;5;28;01mfor\u001b[39;00m axis, labels \u001b[38;5;129;01min\u001b[39;00m axes\u001b[38;5;241m.\u001b[39mitems():\n\u001b[0;32m   4710\u001b[0m     \u001b[38;5;28;01mif\u001b[39;00m labels \u001b[38;5;129;01mis\u001b[39;00m \u001b[38;5;129;01mnot\u001b[39;00m \u001b[38;5;28;01mNone\u001b[39;00m:\n\u001b[1;32m-> 4711\u001b[0m         obj \u001b[38;5;241m=\u001b[39m \u001b[43mobj\u001b[49m\u001b[38;5;241;43m.\u001b[39;49m\u001b[43m_drop_axis\u001b[49m\u001b[43m(\u001b[49m\u001b[43mlabels\u001b[49m\u001b[43m,\u001b[49m\u001b[43m \u001b[49m\u001b[43maxis\u001b[49m\u001b[43m,\u001b[49m\u001b[43m \u001b[49m\u001b[43mlevel\u001b[49m\u001b[38;5;241;43m=\u001b[39;49m\u001b[43mlevel\u001b[49m\u001b[43m,\u001b[49m\u001b[43m \u001b[49m\u001b[43merrors\u001b[49m\u001b[38;5;241;43m=\u001b[39;49m\u001b[43merrors\u001b[49m\u001b[43m)\u001b[49m\n\u001b[0;32m   4713\u001b[0m \u001b[38;5;28;01mif\u001b[39;00m inplace:\n\u001b[0;32m   4714\u001b[0m     \u001b[38;5;28mself\u001b[39m\u001b[38;5;241m.\u001b[39m_update_inplace(obj)\n",
            "File \u001b[1;32m~\\AppData\\Local\\Packages\\PythonSoftwareFoundation.Python.3.11_qbz5n2kfra8p0\\LocalCache\\local-packages\\Python311\\site-packages\\pandas\\core\\generic.py:4753\u001b[0m, in \u001b[0;36mNDFrame._drop_axis\u001b[1;34m(self, labels, axis, level, errors, only_slice)\u001b[0m\n\u001b[0;32m   4751\u001b[0m         new_axis \u001b[38;5;241m=\u001b[39m axis\u001b[38;5;241m.\u001b[39mdrop(labels, level\u001b[38;5;241m=\u001b[39mlevel, errors\u001b[38;5;241m=\u001b[39merrors)\n\u001b[0;32m   4752\u001b[0m     \u001b[38;5;28;01melse\u001b[39;00m:\n\u001b[1;32m-> 4753\u001b[0m         new_axis \u001b[38;5;241m=\u001b[39m \u001b[43maxis\u001b[49m\u001b[38;5;241;43m.\u001b[39;49m\u001b[43mdrop\u001b[49m\u001b[43m(\u001b[49m\u001b[43mlabels\u001b[49m\u001b[43m,\u001b[49m\u001b[43m \u001b[49m\u001b[43merrors\u001b[49m\u001b[38;5;241;43m=\u001b[39;49m\u001b[43merrors\u001b[49m\u001b[43m)\u001b[49m\n\u001b[0;32m   4754\u001b[0m     indexer \u001b[38;5;241m=\u001b[39m axis\u001b[38;5;241m.\u001b[39mget_indexer(new_axis)\n\u001b[0;32m   4756\u001b[0m \u001b[38;5;66;03m# Case for non-unique axis\u001b[39;00m\n\u001b[0;32m   4757\u001b[0m \u001b[38;5;28;01melse\u001b[39;00m:\n",
            "File \u001b[1;32m~\\AppData\\Local\\Packages\\PythonSoftwareFoundation.Python.3.11_qbz5n2kfra8p0\\LocalCache\\local-packages\\Python311\\site-packages\\pandas\\core\\indexes\\base.py:7000\u001b[0m, in \u001b[0;36mIndex.drop\u001b[1;34m(self, labels, errors)\u001b[0m\n\u001b[0;32m   6998\u001b[0m \u001b[38;5;28;01mif\u001b[39;00m mask\u001b[38;5;241m.\u001b[39many():\n\u001b[0;32m   6999\u001b[0m     \u001b[38;5;28;01mif\u001b[39;00m errors \u001b[38;5;241m!=\u001b[39m \u001b[38;5;124m\"\u001b[39m\u001b[38;5;124mignore\u001b[39m\u001b[38;5;124m\"\u001b[39m:\n\u001b[1;32m-> 7000\u001b[0m         \u001b[38;5;28;01mraise\u001b[39;00m \u001b[38;5;167;01mKeyError\u001b[39;00m(\u001b[38;5;124mf\u001b[39m\u001b[38;5;124m\"\u001b[39m\u001b[38;5;132;01m{\u001b[39;00mlabels[mask]\u001b[38;5;241m.\u001b[39mtolist()\u001b[38;5;132;01m}\u001b[39;00m\u001b[38;5;124m not found in axis\u001b[39m\u001b[38;5;124m\"\u001b[39m)\n\u001b[0;32m   7001\u001b[0m     indexer \u001b[38;5;241m=\u001b[39m indexer[\u001b[38;5;241m~\u001b[39mmask]\n\u001b[0;32m   7002\u001b[0m \u001b[38;5;28;01mreturn\u001b[39;00m \u001b[38;5;28mself\u001b[39m\u001b[38;5;241m.\u001b[39mdelete(indexer)\n",
            "\u001b[1;31mKeyError\u001b[0m: \"['targets'] not found in axis\""
          ]
        }
      ],
      "source": [
        "# Separar os dados em X (atributos) e y (classe alvo)\n",
        "X = df.drop(columns=['targets'])\n",
        "y = df['targets']"
      ]
    },
    {
      "cell_type": "code",
      "execution_count": 26,
      "metadata": {
        "id": "xbPAz-uXy-aJ"
      },
      "outputs": [],
      "source": [
        "# Divisão dos dados em conjuntos de treinamento e teste\n",
        "X_train, X_test, y_train, y_test = train_test_split(X, y, test_size=0.2, random_state=42)"
      ]
    },
    {
      "cell_type": "code",
      "execution_count": 27,
      "metadata": {
        "id": "KgI_2bKUy-aN"
      },
      "outputs": [],
      "source": [
        "# Normalização usando StandardScaler\n",
        "scaler = StandardScaler()\n",
        "X_train = scaler.fit_transform(X_train)\n",
        "X_test = scaler.transform(X_test)"
      ]
    },
    {
      "cell_type": "code",
      "execution_count": 28,
      "metadata": {
        "id": "hSkAl5eQy-aN"
      },
      "outputs": [],
      "source": [
        "# Treinamento com GaussianNB (usando MLE)\n",
        "gnb_mle = GaussianNB()\n",
        "gnb_mle.fit(X_train, y_train)\n",
        "y_pred_mle = gnb_mle.predict(X_test)"
      ]
    },
    {
      "cell_type": "code",
      "execution_count": 29,
      "metadata": {
        "id": "w4nlg3Sky-aN"
      },
      "outputs": [],
      "source": [
        "# Treinamento com GaussianNB com suavização (simulando MAP)\n",
        "gnb_map = GaussianNB(var_smoothing=0.1)  # valor pequeno para suavização\n",
        "gnb_map.fit(X_train, y_train)\n",
        "y_pred_map = gnb_map.predict(X_test)"
      ]
    },
    {
      "cell_type": "code",
      "execution_count": 30,
      "metadata": {
        "colab": {
          "base_uri": "https://localhost:8080/",
          "height": 855
        },
        "id": "Zl0ij8hIy-aO",
        "outputId": "2c1b7c77-6b47-4d5d-a28a-28b16dc37942"
      },
      "outputs": [
        {
          "data": {
            "image/png": "[encoded data removed]",
            "text/plain": [
              "<Figure size 1000x700 with 2 Axes>"
            ]
          },
          "metadata": {},
          "output_type": "display_data"
        },
        {
          "name": "stdout",
          "output_type": "stream",
          "text": [
            "\n",
            "Relatório de Classificação (usando Máxima Verossimilhança):\n",
            "               precision    recall  f1-score   support\n",
            "\n",
            "           0       0.85      0.96      0.91      3033\n",
            "           1       0.83      0.53      0.65      1061\n",
            "\n",
            "    accuracy                           0.85      4094\n",
            "   macro avg       0.84      0.75      0.78      4094\n",
            "weighted avg       0.85      0.85      0.84      4094\n",
            "\n"
          ]
        }
      ],
      "source": [
        "# Matriz de Confusão\n",
        "cm = confusion_matrix(y_test, y_pred_mle)\n",
        "\n",
        "# Plotando a Matriz de Confusão com heatmap\n",
        "plt.figure(figsize=(10,7))\n",
        "sns.set(font_scale=1.4) # para definir o tamanho da fonte\n",
        "sns.heatmap(cm, annot=True, annot_kws={\"size\": 16}, cmap='Blues', fmt='g') # 'fmt' evita números científicos na matriz\n",
        "plt.ylabel('Valores Verdadeiros')\n",
        "plt.xlabel('Predições')\n",
        "plt.title('Matriz de Confusão MLE')\n",
        "plt.show()\n",
        "\n",
        "print(\"\\nRelatório de Classificação (usando Máxima Verossimilhança):\\n\", classification_report(y_test, y_pred_mle))"
      ]
    },
    {
      "cell_type": "code",
      "execution_count": 31,
      "metadata": {
        "colab": {
          "base_uri": "https://localhost:8080/",
          "height": 855
        },
        "id": "MpwLpwuBy-aO",
        "outputId": "4a7228e2-c9a2-401f-e3e7-215e51dac2ab"
      },
      "outputs": [
        {
          "data": {
            "image/png": "[encoded data removed]",
            "text/plain": [
              "<Figure size 1000x700 with 2 Axes>"
            ]
          },
          "metadata": {},
          "output_type": "display_data"
        },
        {
          "name": "stdout",
          "output_type": "stream",
          "text": [
            "\n",
            "Relatório de Classificação (usando Estimativa a Posteriori Máxima):\n",
            "               precision    recall  f1-score   support\n",
            "\n",
            "           0       0.85      0.97      0.90      3033\n",
            "           1       0.85      0.50      0.63      1061\n",
            "\n",
            "    accuracy                           0.85      4094\n",
            "   macro avg       0.85      0.73      0.77      4094\n",
            "weighted avg       0.85      0.85      0.83      4094\n",
            "\n"
          ]
        }
      ],
      "source": [
        "# Matriz de Confusão\n",
        "cm = confusion_matrix(y_test, y_pred_map)\n",
        "\n",
        "# Plotando a Matriz de Confusão com heatmap\n",
        "plt.figure(figsize=(10,7))\n",
        "sns.set(font_scale=1.4) # para definir o tamanho da fonte\n",
        "sns.heatmap(cm, annot=True, annot_kws={\"size\": 16}, cmap='Blues', fmt='g') # 'fmt' evita números científicos na matriz\n",
        "plt.ylabel('Valores Verdadeiros')\n",
        "plt.xlabel('Predições')\n",
        "plt.title('Matriz de Confusão MAP')\n",
        "plt.show()\n",
        "\n",
        "print(\"\\nRelatório de Classificação (usando Estimativa a Posteriori Máxima):\\n\", classification_report(y_test, y_pred_map))"
      ]
    },
    {
      "cell_type": "markdown",
      "metadata": {
        "id": "F7gW0VEcy-aO"
      },
      "source": [
        "### Métricas de Avaliação de Modelos de Classificação\n",
        "\n",
        "#### 1. Matriz de Confusão\n",
        "\n",
        "A matriz de confusão é uma tabela usada para descrever o desempenho de um modelo de classificação.\n",
        "\n",
        "- **Verdadeiros Positivos (TP)**: Casos onde o modelo previu 1 e o verdadeiro valor também é 1.\n",
        "- **Verdadeiros Negativos (TN)**: Casos onde o modelo previu 0 e o verdadeiro valor também é 0.\n",
        "- **Falsos Positivos (FP)**: Casos onde o modelo previu 1, mas o verdadeiro valor é 0. Também conhecidos como \"erro tipo I\".\n",
        "- **Falsos Negativos (FN)**: Casos onde o modelo previu 0, mas o verdadeiro valor é 1. Também conhecidos como \"erro tipo II\".\n",
        "\n",
        "#### 2. Precisão (Precision)\n",
        "\n",
        "A precisão mede a proporção de identificações positivas feitas corretamente.\n",
        "\n",
        "Formula: Precisão = TP / (TP + FP)\n",
        "\n",
        "#### 3. Revocação (Recall)\n",
        "\n",
        "A revocação, ou sensibilidade, indica a proporção de positivos reais que foram identificados corretamente.\n",
        "\n",
        "Formula: Recall = TP / (TP + FN)\n",
        "\n",
        "#### 4. F1-Score\n",
        "\n",
        "O F1-Score é a média harmônica entre precisão e revocação, buscando um equilíbrio entre as duas métricas.\n",
        "\n",
        "Formula: F1-Score = 2 * (Precisão * Recall) / (Precisão + Recall)\n",
        "\n",
        "#### 5. Suporte (Support)\n",
        "\n",
        "O suporte é o número de ocorrências reais da classe no conjunto de dados. Ele mostra quantas amostras no conjunto de teste têm essa classe como label verdadeiro.\n"
      ]
    },
    {
      "cell_type": "markdown",
      "metadata": {
        "id": "jlz8HvI-y-aO"
      },
      "source": [
        "# 5. Variações do Algoritmo Naive Bayes\n",
        "\n",
        "O algoritmo Naive Bayes é uma técnica de classificação baseada no teorema de Bayes. Existem várias variações do Naive Bayes, adaptadas para diferentes tipos de dados.\n"
      ]
    },
    {
      "cell_type": "markdown",
      "metadata": {
        "id": "8FFToUSMy-aO"
      },
      "source": [
        "\n",
        "## 5.1. Gaussian Naive Bayes\n",
        "\n",
        "Este é o tipo mais comum de Naive Bayes usado quando os recursos (features) têm valores contínuos.\n",
        "\n",
        "- **Características Principais**:\n",
        "  - Assume que os recursos seguem uma distribuição normal ou gaussiana.\n",
        "  - A probabilidade de uma característica é calculada usando a fórmula da distribuição gaussiana.\n",
        "\n",
        "É especialmente adequado para problemas em que os recursos têm valores contínuos, como medidas em experimentos científicos ou valores em colunas de um conjunto de dados.\n",
        "\n",
        "```python\n",
        "from sklearn.naive_bayes import GaussianNB\n",
        "gnb = GaussianNB()\n",
        "```"
      ]
    },
    {
      "cell_type": "markdown",
      "metadata": {
        "id": "VEPZwaaIy-aO"
      },
      "source": [
        "\n",
        "## 5.2. Multinomial Naive Bayes\n",
        "Esta variação é adequada para classificação com recursos discretos.\n",
        "\n",
        "- **Características Principais**:\n",
        "  - Frequentemente usado em problemas de classificação de texto, onde os recursos podem ser a contagem ou a presença/ausência de palavras em um documento.\n",
        "  - Assume que os recursos têm distribuição multinomial.\n",
        "\n",
        "Por exemplo, pode ser usado em sistemas de filtragem de spam para classificar e-mails como \"spam\" ou \"não spam\" com base na frequência de certas palavras.\n",
        "\n",
        "```python\n",
        "from sklearn.naive_bayes import MultinomialNB\n",
        "mnb = MultinomialNB()\n",
        "```"
      ]
    },
    {
      "cell_type": "markdown",
      "metadata": {
        "id": "mYmR18tWy-aP"
      },
      "source": [
        "\n",
        "## 5.3. Bernoulli Naive Bayes\n",
        "É uma variação do Naive Bayes adequada para dados binários.\n",
        "\n",
        "- **Características Principais**:\n",
        "  - Pode ser usado em problemas de classificação de texto onde os recursos são binários, ou seja, indicam a presença ou ausência de uma palavra.\n",
        "  - Assume que os recursos têm uma distribuição de Bernoulli.\n",
        "\n",
        "Um exemplo prático é a classificação de documentos com base na presença/ausência de palavras-chave específicas.\n",
        "\n",
        "```python\n",
        "from sklearn.naive_bayes import BernoulliNB\n",
        "bnb = BernoulliNB()\n",
        "```"
      ]
    },
    {
      "cell_type": "markdown",
      "metadata": {
        "id": "wxkq2wxly-aP"
      },
      "source": [
        "# 7. Prós e Contras do Naive Bayes\n"
      ]
    },
    {
      "cell_type": "markdown",
      "metadata": {
        "id": "yY6tiRUny-aP"
      },
      "source": [
        "\n",
        "\n",
        "## 7.1. Vantagens do algoritmo\n",
        "\n",
        "1. **Simplicidade e rapidez:** O Naive Bayes é conhecido por ser um algoritmo rápido e fácil de construir, especialmente quando o conjunto de dados tem dimensões elevadas.\n",
        "\n",
        "2. **Requer menos dados:** O Naive Bayes não necessita de tantos dados para ser eficaz e, frequentemente, apresenta resultados decentes mesmo com conjuntos de dados relativamente pequenos.\n",
        "\n",
        "3. **Trata bem características irrelevantes:** Devido à sua suposição de independência, características irrelevantes não prejudicam o desempenho, pois sua contribuição é neutralizada.\n",
        "\n",
        "4. **Bom para classificação de texto:** Naive Bayes é notório por seu desempenho em problemas de classificação de texto, como filtragem de spam e análise de sentimento.\n",
        "\n",
        "5. **Trabalha bem com variáveis categóricas:** Não requer codificação adicional ou transformação para variáveis categóricas.\n",
        "\n"
      ]
    },
    {
      "cell_type": "markdown",
      "metadata": {
        "id": "GsBnPwQly-aP"
      },
      "source": [
        "\n",
        "## 7.2. Limitações do algoritmo\n",
        "\n",
        "1. **Suposição de independência:** O \"Naive\" em Naive Bayes refere-se à suposição ingênua de que todas as características são independentes entre si, o que raramente é verdade na prática.\n",
        "\n",
        "2. **Problema de probabilidade zero:** Se uma categoria não aparece no conjunto de treinamento, o algoritmo atribuirá uma probabilidade de zero e não poderá fazer uma previsão. Isso é conhecido como \"problema de probabilidade zero\". Soluções como o \"alisamento de Laplace\" são utilizadas para corrigir isso.\n",
        "\n",
        "3. **Modelo de alta polaridade:** Se uma característica está fortemente correlacionada com uma classe específica, isso pode polarizar o modelo, e ele pode falhar em cenários mais gerais.\n",
        "\n",
        "4. **Não é ideal para tarefas de regressão:** O Naive Bayes é primariamente um algoritmo de classificação.\n"
      ]
    },
    {
      "cell_type": "markdown",
      "metadata": {
        "id": "vwmnRnVny-aP"
      },
      "source": [
        "\n",
        "## 7.3. Quando usar e quando não usar Naive Bayes\n",
        "\n",
        "### Quando usar:\n",
        "1. **Classificação de texto:** Como mencionado anteriormente, Naive Bayes é uma escolha popular para tarefas como filtragem de spam e análise de sentimento.\n",
        "\n",
        "2. **Conjuntos de dados com muitas características:** Devido à sua rapidez e simplicidade, Naive Bayes pode ser uma boa escolha quando se lida com conjuntos de dados de alta dimensão.\n",
        "\n",
        "3. **Prototipagem rápida:** Quando você quer um modelo rápido e bom o suficiente como uma solução temporária.\n",
        "\n",
        "4. **Conjuntos de dados com características categóricas:** O Naive Bayes trata naturalmente variáveis categóricas sem necessidade de codificação adicional.\n",
        "\n",
        "### Quando não usar:\n",
        "1. **Quando a inter-relação entre características é crucial:** Se as características não são independentes ou se a inter-relação entre elas é um fator crucial para a classificação.\n",
        "\n",
        "2. **Tarefas de regressão:** Naive Bayes não é adequado para tarefas onde o objetivo é prever um valor contínuo.\n",
        "\n",
        "3. **Quando o desempenho do modelo é crítico:** Em situações onde é necessário o melhor modelo possível, pode ser melhor considerar modelos mais sofisticados.\n",
        "\n",
        "\n"
      ]
    },
    {
      "cell_type": "markdown",
      "metadata": {
        "id": "tE7lV2poy-aP"
      },
      "source": [
        "\n",
        "# 8. Aplicações Práticas e Estudos de Caso\n",
        "\n",
        "\n"
      ]
    },
    {
      "cell_type": "markdown",
      "metadata": {
        "id": "PbUvVcihy-aQ"
      },
      "source": [
        "\n",
        "## 8.1. Naive Bayes em Detecção de Spam\n",
        "\n",
        "\n",
        "\n",
        "O algoritmo Naive Bayes é frequentemente usado na detecção de spam devido à sua eficácia e rapidez. O princípio por trás disso é simples: determinar a probabilidade de uma mensagem ser spam com base nas palavras presentes na mensagem.\n",
        "\n",
        "### Como funciona:\n",
        "\n",
        "1. **Treinamento do modelo:** O modelo é treinado em um conjunto de dados contendo mensagens classificadas como spam ou não spam. Durante esse processo, o algoritmo aprende a probabilidade de certas palavras aparecerem em mensagens de spam em comparação com mensagens não spam.\n",
        "\n",
        "2. **Classificação:** Para uma nova mensagem, o modelo calcula a probabilidade de ser spam com base na presença (ou ausência) de palavras. Se a probabilidade exceder um certo limiar, a mensagem é classificada como spam.\n",
        "\n",
        "3. **Características a considerar:** Além das palavras, outros aspectos, como o endereço do remetente, a hora do envio ou a presença de anexos, também podem ser usados.\n",
        "\n",
        "### Exemplo prático:"
      ]
    },
    {
      "cell_type": "code",
      "execution_count": 32,
      "metadata": {
        "id": "PTI84u8Ey-aQ"
      },
      "outputs": [],
      "source": [
        "df = pd.read_csv('data/emails.csv')"
      ]
    },
    {
      "cell_type": "code",
      "execution_count": 33,
      "metadata": {
        "colab": {
          "base_uri": "https://localhost:8080/",
          "height": 206
        },
        "id": "f5ke810py-aQ",
        "outputId": "1ca458e2-ac42-4b06-bb87-2482efc7b908"
      },
      "outputs": [
        {
          "data": {
            "text/html": [
              "<div>\n",
              "<style scoped>\n",
              "    .dataframe tbody tr th:only-of-type {\n",
              "        vertical-align: middle;\n",
              "    }\n",
              "\n",
              "    .dataframe tbody tr th {\n",
              "        vertical-align: top;\n",
              "    }\n",
              "\n",
              "    .dataframe thead th {\n",
              "        text-align: right;\n",
              "    }\n",
              "</style>\n",
              "<table border=\"1\" class=\"dataframe\">\n",
              "  <thead>\n",
              "    <tr style=\"text-align: right;\">\n",
              "      <th></th>\n",
              "      <th>text</th>\n",
              "      <th>spam</th>\n",
              "    </tr>\n",
              "  </thead>\n",
              "  <tbody>\n",
              "    <tr>\n",
              "      <th>0</th>\n",
              "      <td>Subject: naturally irresistible your corporate...</td>\n",
              "      <td>1</td>\n",
              "    </tr>\n",
              "    <tr>\n",
              "      <th>1</th>\n",
              "      <td>Subject: the stock trading gunslinger  fanny i...</td>\n",
              "      <td>1</td>\n",
              "    </tr>\n",
              "    <tr>\n",
              "      <th>2</th>\n",
              "      <td>Subject: unbelievable new homes made easy  im ...</td>\n",
              "      <td>1</td>\n",
              "    </tr>\n",
              "    <tr>\n",
              "      <th>3</th>\n",
              "      <td>Subject: 4 color printing special  request add...</td>\n",
              "      <td>1</td>\n",
              "    </tr>\n",
              "    <tr>\n",
              "      <th>4</th>\n",
              "      <td>Subject: do not have money , get software cds ...</td>\n",
              "      <td>1</td>\n",
              "    </tr>\n",
              "  </tbody>\n",
              "</table>\n",
              "</div>"
            ],
            "text/plain": [
              "                                                text  spam\n",
              "0  Subject: naturally irresistible your corporate...     1\n",
              "1  Subject: the stock trading gunslinger  fanny i...     1\n",
              "2  Subject: unbelievable new homes made easy  im ...     1\n",
              "3  Subject: 4 color printing special  request add...     1\n",
              "4  Subject: do not have money , get software cds ...     1"
            ]
          },
          "execution_count": 33,
          "metadata": {},
          "output_type": "execute_result"
        }
      ],
      "source": [
        "df.head()"
      ]
    },
    {
      "cell_type": "code",
      "execution_count": 34,
      "metadata": {
        "colab": {
          "base_uri": "https://localhost:8080/",
          "height": 122
        },
        "id": "Zkwh_kMty-aQ",
        "outputId": "0c03beeb-ac00-4fe0-a76a-792b92aab9e7"
      },
      "outputs": [
        {
          "data": {
            "text/plain": [
              "\"Subject: naturally irresistible your corporate identity  lt is really hard to recollect a company : the  market is full of suqgestions and the information isoverwhelminq ; but a good  catchy logo , stylish statlonery and outstanding website  will make the task much easier .  we do not promise that havinq ordered a iogo your  company will automaticaily become a world ieader : it isguite ciear that  without good products , effective business organization and practicable aim it  will be hotat nowadays market ; but we do promise that your marketing efforts  will become much more effective . here is the list of clear  benefits : creativeness : hand - made , original logos , specially done  to reflect your distinctive company image . convenience : logo and stationery  are provided in all formats ; easy - to - use content management system letsyou  change your website content and even its structure . promptness : you  will see logo drafts within three business days . affordability : your  marketing break - through shouldn ' t make gaps in your budget . 100 % satisfaction  guaranteed : we provide unlimited amount of changes with no extra fees for you to  be surethat you will love the result of this collaboration . have a look at our  portfolio _ _ _ _ _ _ _ _ _ _ _ _ _ _ _ _ _ _ _ _ _ _ _ _ _ _ _ _ _ _ _ _ _ _ _ _ _ _ _ _ _ _ _ _ _ _ _ _ _ _ _ _ not interested . . . _ _ _ _ _ _ _ _ _ _ _ _ _ _ _ _ _ _ _ _ _ _ _ _ _ _ _ _ _ _ _ _ _ _ _ _ _ _ _ _ _ _ _ _ _ _ _ _ _ _ _ _\""
            ]
          },
          "execution_count": 34,
          "metadata": {},
          "output_type": "execute_result"
        }
      ],
      "source": [
        "df.text[0]"
      ]
    },
    {
      "cell_type": "code",
      "execution_count": 35,
      "metadata": {
        "colab": {
          "base_uri": "https://localhost:8080/",
          "height": 87
        },
        "id": "j8iSAT5ly-aQ",
        "outputId": "29554d24-c013-4ec9-afa8-1c90d4157114"
      },
      "outputs": [
        {
          "data": {
            "text/plain": [
              "'Subject: the stock trading gunslinger  fanny is merrill but muzo not colza attainder and penultimate like esmark perspicuous ramble is segovia not group try slung kansas tanzania yes chameleon or continuant clothesman no  libretto is chesapeake but tight not waterway herald and hawthorn like chisel morristown superior is deoxyribonucleic not clockwork try hall incredible mcdougall yes hepburn or einsteinian earmark no  sapling is boar but duane not plain palfrey and inflexible like huzzah pepperoni bedtime is nameable not attire try edt chronography optima yes pirogue or diffusion albeit no '"
            ]
          },
          "execution_count": 35,
          "metadata": {},
          "output_type": "execute_result"
        }
      ],
      "source": [
        "df.text[1]"
      ]
    },
    {
      "cell_type": "code",
      "execution_count": 36,
      "metadata": {
        "colab": {
          "base_uri": "https://localhost:8080/"
        },
        "id": "qZyAVauFy-aQ",
        "outputId": "0cca391f-2bf1-430b-a426-4155171c6fb7"
      },
      "outputs": [
        {
          "data": {
            "text/plain": [
              "(5728, 2)"
            ]
          },
          "execution_count": 36,
          "metadata": {},
          "output_type": "execute_result"
        }
      ],
      "source": [
        "df.shape"
      ]
    },
    {
      "cell_type": "code",
      "execution_count": 37,
      "metadata": {
        "colab": {
          "base_uri": "https://localhost:8080/"
        },
        "id": "w6Rb2Xkfy-aR",
        "outputId": "18872293-9af5-42d6-ebcb-e4d4d30754fa"
      },
      "outputs": [
        {
          "data": {
            "text/plain": [
              "spam\n",
              "0    4360\n",
              "1    1368\n",
              "Name: count, dtype: int64"
            ]
          },
          "execution_count": 37,
          "metadata": {},
          "output_type": "execute_result"
        }
      ],
      "source": [
        "df.spam.value_counts()"
      ]
    },
    {
      "cell_type": "code",
      "execution_count": 38,
      "metadata": {
        "colab": {
          "base_uri": "https://localhost:8080/"
        },
        "id": "DZGOQTuVy-aR",
        "outputId": "a84d79c4-482b-47ad-fde6-5fca7dd8d8b6"
      },
      "outputs": [
        {
          "name": "stdout",
          "output_type": "stream",
          "text": [
            "<class 'pandas.core.frame.DataFrame'>\n",
            "RangeIndex: 5728 entries, 0 to 5727\n",
            "Data columns (total 2 columns):\n",
            " #   Column  Non-Null Count  Dtype \n",
            "---  ------  --------------  ----- \n",
            " 0   text    5728 non-null   object\n",
            " 1   spam    5728 non-null   int64 \n",
            "dtypes: int64(1), object(1)\n",
            "memory usage: 89.6+ KB\n"
          ]
        }
      ],
      "source": [
        "df.info()"
      ]
    },
    {
      "cell_type": "code",
      "execution_count": 39,
      "metadata": {
        "id": "Wx1gRj8Cy-aR"
      },
      "outputs": [],
      "source": [
        "from sklearn.feature_extraction.text import CountVectorizer\n",
        "from sklearn.naive_bayes import MultinomialNB"
      ]
    },
    {
      "cell_type": "code",
      "execution_count": 40,
      "metadata": {
        "id": "0HLii6Kwy-aR"
      },
      "outputs": [],
      "source": [
        "# 2. Separação dos dados em X (text) e y (spam)\n",
        "X = df['text']\n",
        "y = df['spam']"
      ]
    },
    {
      "cell_type": "code",
      "execution_count": 41,
      "metadata": {
        "id": "xZbqc_y1y-aR"
      },
      "outputs": [],
      "source": [
        "# 3. Divisão dos dados em conjuntos de treinamento e teste\n",
        "X_train, X_test, y_train, y_test = train_test_split(X, y, test_size=0.3, random_state=42)"
      ]
    },
    {
      "cell_type": "code",
      "execution_count": 42,
      "metadata": {
        "id": "yNmVRwS9y-aR"
      },
      "outputs": [],
      "source": [
        "# 4. Transformação dos textos em vetores numéricos\n",
        "vectorizer = CountVectorizer(stop_words='english')\n",
        "X_train_transformed = vectorizer.fit_transform(X_train)\n",
        "X_test_transformed = vectorizer.transform(X_test)"
      ]
    },
    {
      "cell_type": "code",
      "execution_count": 43,
      "metadata": {
        "colab": {
          "base_uri": "https://localhost:8080/",
          "height": 75
        },
        "id": "httpoGRTy-aR",
        "outputId": "c096810e-f277-4faf-9ac0-00dd248c41a7"
      },
      "outputs": [
        {
          "data": {
            "text/html": [
              "<style>#sk-container-id-1 {\n",
              "  /* Definition of color scheme common for light and dark mode */\n",
              "  --sklearn-color-text: black;\n",
              "  --sklearn-color-line: gray;\n",
              "  /* Definition of color scheme for unfitted estimators */\n",
              "  --sklearn-color-unfitted-level-0: #fff5e6;\n",
              "  --sklearn-color-unfitted-level-1: #f6e4d2;\n",
              "  --sklearn-color-unfitted-level-2: #ffe0b3;\n",
              "  --sklearn-color-unfitted-level-3: chocolate;\n",
              "  /* Definition of color scheme for fitted estimators */\n",
              "  --sklearn-color-fitted-level-0: #f0f8ff;\n",
              "  --sklearn-color-fitted-level-1: #d4ebff;\n",
              "  --sklearn-color-fitted-level-2: #b3dbfd;\n",
              "  --sklearn-color-fitted-level-3: cornflowerblue;\n",
              "\n",
              "  /* Specific color for light theme */\n",
              "  --sklearn-color-text-on-default-background: var(--sg-text-color, var(--theme-code-foreground, var(--jp-content-font-color1, black)));\n",
              "  --sklearn-color-background: var(--sg-background-color, var(--theme-background, var(--jp-layout-color0, white)));\n",
              "  --sklearn-color-border-box: var(--sg-text-color, var(--theme-code-foreground, var(--jp-content-font-color1, black)));\n",
              "  --sklearn-color-icon: #696969;\n",
              "\n",
              "  @media (prefers-color-scheme: dark) {\n",
              "    /* Redefinition of color scheme for dark theme */\n",
              "    --sklearn-color-text-on-default-background: var(--sg-text-color, var(--theme-code-foreground, var(--jp-content-font-color1, white)));\n",
              "    --sklearn-color-background: var(--sg-background-color, var(--theme-background, var(--jp-layout-color0, #111)));\n",
              "    --sklearn-color-border-box: var(--sg-text-color, var(--theme-code-foreground, var(--jp-content-font-color1, white)));\n",
              "    --sklearn-color-icon: #878787;\n",
              "  }\n",
              "}\n",
              "\n",
              "#sk-container-id-1 {\n",
              "  color: var(--sklearn-color-text);\n",
              "}\n",
              "\n",
              "#sk-container-id-1 pre {\n",
              "  padding: 0;\n",
              "}\n",
              "\n",
              "#sk-container-id-1 input.sk-hidden--visually {\n",
              "  border: 0;\n",
              "  clip: rect(1px 1px 1px 1px);\n",
              "  clip: rect(1px, 1px, 1px, 1px);\n",
              "  height: 1px;\n",
              "  margin: -1px;\n",
              "  overflow: hidden;\n",
              "  padding: 0;\n",
              "  position: absolute;\n",
              "  width: 1px;\n",
              "}\n",
              "\n",
              "#sk-container-id-1 div.sk-dashed-wrapped {\n",
              "  border: 1px dashed var(--sklearn-color-line);\n",
              "  margin: 0 0.4em 0.5em 0.4em;\n",
              "  box-sizing: border-box;\n",
              "  padding-bottom: 0.4em;\n",
              "  background-color: var(--sklearn-color-background);\n",
              "}\n",
              "\n",
              "#sk-container-id-1 div.sk-container {\n",
              "  /* jupyter's `normalize.less` sets `[hidden] { display: none; }`\n",
              "     but bootstrap.min.css set `[hidden] { display: none !important; }`\n",
              "     so we also need the `!important` here to be able to override the\n",
              "     default hidden behavior on the sphinx rendered scikit-learn.org.\n",
              "     See: https://github.com/scikit-learn/scikit-learn/issues/21755 */\n",
              "  display: inline-block !important;\n",
              "  position: relative;\n",
              "}\n",
              "\n",
              "#sk-container-id-1 div.sk-text-repr-fallback {\n",
              "  display: none;\n",
              "}\n",
              "\n",
              "div.sk-parallel-item,\n",
              "div.sk-serial,\n",
              "div.sk-item {\n",
              "  /* draw centered vertical line to link estimators */\n",
              "  background-image: linear-gradient(var(--sklearn-color-text-on-default-background), var(--sklearn-color-text-on-default-background));\n",
              "  background-size: 2px 100%;\n",
              "  background-repeat: no-repeat;\n",
              "  background-position: center center;\n",
              "}\n",
              "\n",
              "/* Parallel-specific style estimator block */\n",
              "\n",
              "#sk-container-id-1 div.sk-parallel-item::after {\n",
              "  content: \"\";\n",
              "  width: 100%;\n",
              "  border-bottom: 2px solid var(--sklearn-color-text-on-default-background);\n",
              "  flex-grow: 1;\n",
              "}\n",
              "\n",
              "#sk-container-id-1 div.sk-parallel {\n",
              "  display: flex;\n",
              "  align-items: stretch;\n",
              "  justify-content: center;\n",
              "  background-color: var(--sklearn-color-background);\n",
              "  position: relative;\n",
              "}\n",
              "\n",
              "#sk-container-id-1 div.sk-parallel-item {\n",
              "  display: flex;\n",
              "  flex-direction: column;\n",
              "}\n",
              "\n",
              "#sk-container-id-1 div.sk-parallel-item:first-child::after {\n",
              "  align-self: flex-end;\n",
              "  width: 50%;\n",
              "}\n",
              "\n",
              "#sk-container-id-1 div.sk-parallel-item:last-child::after {\n",
              "  align-self: flex-start;\n",
              "  width: 50%;\n",
              "}\n",
              "\n",
              "#sk-container-id-1 div.sk-parallel-item:only-child::after {\n",
              "  width: 0;\n",
              "}\n",
              "\n",
              "/* Serial-specific style estimator block */\n",
              "\n",
              "#sk-container-id-1 div.sk-serial {\n",
              "  display: flex;\n",
              "  flex-direction: column;\n",
              "  align-items: center;\n",
              "  background-color: var(--sklearn-color-background);\n",
              "  padding-right: 1em;\n",
              "  padding-left: 1em;\n",
              "}\n",
              "\n",
              "\n",
              "/* Toggleable style: style used for estimator/Pipeline/ColumnTransformer box that is\n",
              "clickable and can be expanded/collapsed.\n",
              "- Pipeline and ColumnTransformer use this feature and define the default style\n",
              "- Estimators will overwrite some part of the style using the `sk-estimator` class\n",
              "*/\n",
              "\n",
              "/* Pipeline and ColumnTransformer style (default) */\n",
              "\n",
              "#sk-container-id-1 div.sk-toggleable {\n",
              "  /* Default theme specific background. It is overwritten whether we have a\n",
              "  specific estimator or a Pipeline/ColumnTransformer */\n",
              "  background-color: var(--sklearn-color-background);\n",
              "}\n",
              "\n",
              "/* Toggleable label */\n",
              "#sk-container-id-1 label.sk-toggleable__label {\n",
              "  cursor: pointer;\n",
              "  display: block;\n",
              "  width: 100%;\n",
              "  margin-bottom: 0;\n",
              "  padding: 0.5em;\n",
              "  box-sizing: border-box;\n",
              "  text-align: center;\n",
              "}\n",
              "\n",
              "#sk-container-id-1 label.sk-toggleable__label-arrow:before {\n",
              "  /* Arrow on the left of the label */\n",
              "  content: \"▸\";\n",
              "  float: left;\n",
              "  margin-right: 0.25em;\n",
              "  color: var(--sklearn-color-icon);\n",
              "}\n",
              "\n",
              "#sk-container-id-1 label.sk-toggleable__label-arrow:hover:before {\n",
              "  color: var(--sklearn-color-text);\n",
              "}\n",
              "\n",
              "/* Toggleable content - dropdown */\n",
              "\n",
              "#sk-container-id-1 div.sk-toggleable__content {\n",
              "  max-height: 0;\n",
              "  max-width: 0;\n",
              "  overflow: hidden;\n",
              "  text-align: left;\n",
              "  /* unfitted */\n",
              "  background-color: var(--sklearn-color-unfitted-level-0);\n",
              "}\n",
              "\n",
              "#sk-container-id-1 div.sk-toggleable__content.fitted {\n",
              "  /* fitted */\n",
              "  background-color: var(--sklearn-color-fitted-level-0);\n",
              "}\n",
              "\n",
              "#sk-container-id-1 div.sk-toggleable__content pre {\n",
              "  margin: 0.2em;\n",
              "  border-radius: 0.25em;\n",
              "  color: var(--sklearn-color-text);\n",
              "  /* unfitted */\n",
              "  background-color: var(--sklearn-color-unfitted-level-0);\n",
              "}\n",
              "\n",
              "#sk-container-id-1 div.sk-toggleable__content.fitted pre {\n",
              "  /* unfitted */\n",
              "  background-color: var(--sklearn-color-fitted-level-0);\n",
              "}\n",
              "\n",
              "#sk-container-id-1 input.sk-toggleable__control:checked~div.sk-toggleable__content {\n",
              "  /* Expand drop-down */\n",
              "  max-height: 200px;\n",
              "  max-width: 100%;\n",
              "  overflow: auto;\n",
              "}\n",
              "\n",
              "#sk-container-id-1 input.sk-toggleable__control:checked~label.sk-toggleable__label-arrow:before {\n",
              "  content: \"▾\";\n",
              "}\n",
              "\n",
              "/* Pipeline/ColumnTransformer-specific style */\n",
              "\n",
              "#sk-container-id-1 div.sk-label input.sk-toggleable__control:checked~label.sk-toggleable__label {\n",
              "  color: var(--sklearn-color-text);\n",
              "  background-color: var(--sklearn-color-unfitted-level-2);\n",
              "}\n",
              "\n",
              "#sk-container-id-1 div.sk-label.fitted input.sk-toggleable__control:checked~label.sk-toggleable__label {\n",
              "  background-color: var(--sklearn-color-fitted-level-2);\n",
              "}\n",
              "\n",
              "/* Estimator-specific style */\n",
              "\n",
              "/* Colorize estimator box */\n",
              "#sk-container-id-1 div.sk-estimator input.sk-toggleable__control:checked~label.sk-toggleable__label {\n",
              "  /* unfitted */\n",
              "  background-color: var(--sklearn-color-unfitted-level-2);\n",
              "}\n",
              "\n",
              "#sk-container-id-1 div.sk-estimator.fitted input.sk-toggleable__control:checked~label.sk-toggleable__label {\n",
              "  /* fitted */\n",
              "  background-color: var(--sklearn-color-fitted-level-2);\n",
              "}\n",
              "\n",
              "#sk-container-id-1 div.sk-label label.sk-toggleable__label,\n",
              "#sk-container-id-1 div.sk-label label {\n",
              "  /* The background is the default theme color */\n",
              "  color: var(--sklearn-color-text-on-default-background);\n",
              "}\n",
              "\n",
              "/* On hover, darken the color of the background */\n",
              "#sk-container-id-1 div.sk-label:hover label.sk-toggleable__label {\n",
              "  color: var(--sklearn-color-text);\n",
              "  background-color: var(--sklearn-color-unfitted-level-2);\n",
              "}\n",
              "\n",
              "/* Label box, darken color on hover, fitted */\n",
              "#sk-container-id-1 div.sk-label.fitted:hover label.sk-toggleable__label.fitted {\n",
              "  color: var(--sklearn-color-text);\n",
              "  background-color: var(--sklearn-color-fitted-level-2);\n",
              "}\n",
              "\n",
              "/* Estimator label */\n",
              "\n",
              "#sk-container-id-1 div.sk-label label {\n",
              "  font-family: monospace;\n",
              "  font-weight: bold;\n",
              "  display: inline-block;\n",
              "  line-height: 1.2em;\n",
              "}\n",
              "\n",
              "#sk-container-id-1 div.sk-label-container {\n",
              "  text-align: center;\n",
              "}\n",
              "\n",
              "/* Estimator-specific */\n",
              "#sk-container-id-1 div.sk-estimator {\n",
              "  font-family: monospace;\n",
              "  border: 1px dotted var(--sklearn-color-border-box);\n",
              "  border-radius: 0.25em;\n",
              "  box-sizing: border-box;\n",
              "  margin-bottom: 0.5em;\n",
              "  /* unfitted */\n",
              "  background-color: var(--sklearn-color-unfitted-level-0);\n",
              "}\n",
              "\n",
              "#sk-container-id-1 div.sk-estimator.fitted {\n",
              "  /* fitted */\n",
              "  background-color: var(--sklearn-color-fitted-level-0);\n",
              "}\n",
              "\n",
              "/* on hover */\n",
              "#sk-container-id-1 div.sk-estimator:hover {\n",
              "  /* unfitted */\n",
              "  background-color: var(--sklearn-color-unfitted-level-2);\n",
              "}\n",
              "\n",
              "#sk-container-id-1 div.sk-estimator.fitted:hover {\n",
              "  /* fitted */\n",
              "  background-color: var(--sklearn-color-fitted-level-2);\n",
              "}\n",
              "\n",
              "/* Specification for estimator info (e.g. \"i\" and \"?\") */\n",
              "\n",
              "/* Common style for \"i\" and \"?\" */\n",
              "\n",
              ".sk-estimator-doc-link,\n",
              "a:link.sk-estimator-doc-link,\n",
              "a:visited.sk-estimator-doc-link {\n",
              "  float: right;\n",
              "  font-size: smaller;\n",
              "  line-height: 1em;\n",
              "  font-family: monospace;\n",
              "  background-color: var(--sklearn-color-background);\n",
              "  border-radius: 1em;\n",
              "  height: 1em;\n",
              "  width: 1em;\n",
              "  text-decoration: none !important;\n",
              "  margin-left: 1ex;\n",
              "  /* unfitted */\n",
              "  border: var(--sklearn-color-unfitted-level-1) 1pt solid;\n",
              "  color: var(--sklearn-color-unfitted-level-1);\n",
              "}\n",
              "\n",
              ".sk-estimator-doc-link.fitted,\n",
              "a:link.sk-estimator-doc-link.fitted,\n",
              "a:visited.sk-estimator-doc-link.fitted {\n",
              "  /* fitted */\n",
              "  border: var(--sklearn-color-fitted-level-1) 1pt solid;\n",
              "  color: var(--sklearn-color-fitted-level-1);\n",
              "}\n",
              "\n",
              "/* On hover */\n",
              "div.sk-estimator:hover .sk-estimator-doc-link:hover,\n",
              ".sk-estimator-doc-link:hover,\n",
              "div.sk-label-container:hover .sk-estimator-doc-link:hover,\n",
              ".sk-estimator-doc-link:hover {\n",
              "  /* unfitted */\n",
              "  background-color: var(--sklearn-color-unfitted-level-3);\n",
              "  color: var(--sklearn-color-background);\n",
              "  text-decoration: none;\n",
              "}\n",
              "\n",
              "div.sk-estimator.fitted:hover .sk-estimator-doc-link.fitted:hover,\n",
              ".sk-estimator-doc-link.fitted:hover,\n",
              "div.sk-label-container:hover .sk-estimator-doc-link.fitted:hover,\n",
              ".sk-estimator-doc-link.fitted:hover {\n",
              "  /* fitted */\n",
              "  background-color: var(--sklearn-color-fitted-level-3);\n",
              "  color: var(--sklearn-color-background);\n",
              "  text-decoration: none;\n",
              "}\n",
              "\n",
              "/* Span, style for the box shown on hovering the info icon */\n",
              ".sk-estimator-doc-link span {\n",
              "  display: none;\n",
              "  z-index: 9999;\n",
              "  position: relative;\n",
              "  font-weight: normal;\n",
              "  right: .2ex;\n",
              "  padding: .5ex;\n",
              "  margin: .5ex;\n",
              "  width: min-content;\n",
              "  min-width: 20ex;\n",
              "  max-width: 50ex;\n",
              "  color: var(--sklearn-color-text);\n",
              "  box-shadow: 2pt 2pt 4pt #999;\n",
              "  /* unfitted */\n",
              "  background: var(--sklearn-color-unfitted-level-0);\n",
              "  border: .5pt solid var(--sklearn-color-unfitted-level-3);\n",
              "}\n",
              "\n",
              ".sk-estimator-doc-link.fitted span {\n",
              "  /* fitted */\n",
              "  background: var(--sklearn-color-fitted-level-0);\n",
              "  border: var(--sklearn-color-fitted-level-3);\n",
              "}\n",
              "\n",
              ".sk-estimator-doc-link:hover span {\n",
              "  display: block;\n",
              "}\n",
              "\n",
              "/* \"?\"-specific style due to the `<a>` HTML tag */\n",
              "\n",
              "#sk-container-id-1 a.estimator_doc_link {\n",
              "  float: right;\n",
              "  font-size: 1rem;\n",
              "  line-height: 1em;\n",
              "  font-family: monospace;\n",
              "  background-color: var(--sklearn-color-background);\n",
              "  border-radius: 1rem;\n",
              "  height: 1rem;\n",
              "  width: 1rem;\n",
              "  text-decoration: none;\n",
              "  /* unfitted */\n",
              "  color: var(--sklearn-color-unfitted-level-1);\n",
              "  border: var(--sklearn-color-unfitted-level-1) 1pt solid;\n",
              "}\n",
              "\n",
              "#sk-container-id-1 a.estimator_doc_link.fitted {\n",
              "  /* fitted */\n",
              "  border: var(--sklearn-color-fitted-level-1) 1pt solid;\n",
              "  color: var(--sklearn-color-fitted-level-1);\n",
              "}\n",
              "\n",
              "/* On hover */\n",
              "#sk-container-id-1 a.estimator_doc_link:hover {\n",
              "  /* unfitted */\n",
              "  background-color: var(--sklearn-color-unfitted-level-3);\n",
              "  color: var(--sklearn-color-background);\n",
              "  text-decoration: none;\n",
              "}\n",
              "\n",
              "#sk-container-id-1 a.estimator_doc_link.fitted:hover {\n",
              "  /* fitted */\n",
              "  background-color: var(--sklearn-color-fitted-level-3);\n",
              "}\n",
              "</style><div id=\"sk-container-id-1\" class=\"sk-top-container\"><div class=\"sk-text-repr-fallback\"><pre>MultinomialNB()</pre><b>In a Jupyter environment, please rerun this cell to show the HTML representation or trust the notebook. <br />On GitHub, the HTML representation is unable to render, please try loading this page with nbviewer.org.</b></div><div class=\"sk-container\" hidden><div class=\"sk-item\"><div class=\"sk-estimator fitted sk-toggleable\"><input class=\"sk-toggleable__control sk-hidden--visually\" id=\"sk-estimator-id-1\" type=\"checkbox\" checked><label for=\"sk-estimator-id-1\" class=\"sk-toggleable__label fitted sk-toggleable__label-arrow fitted\">&nbsp;&nbsp;MultinomialNB<a class=\"sk-estimator-doc-link fitted\" rel=\"noreferrer\" target=\"_blank\" href=\"https://scikit-learn.org/1.4/modules/generated/sklearn.naive_bayes.MultinomialNB.html\">?<span>Documentation for MultinomialNB</span></a><span class=\"sk-estimator-doc-link fitted\">i<span>Fitted</span></span></label><div class=\"sk-toggleable__content fitted\"><pre>MultinomialNB()</pre></div> </div></div></div></div>"
            ],
            "text/plain": [
              "MultinomialNB()"
            ]
          },
          "execution_count": 43,
          "metadata": {},
          "output_type": "execute_result"
        }
      ],
      "source": [
        "# 5. Treinamento do modelo MultinomialNB\n",
        "mnb = MultinomialNB()\n",
        "mnb.fit(X_train_transformed, y_train)"
      ]
    },
    {
      "cell_type": "code",
      "execution_count": 44,
      "metadata": {
        "id": "StuaTthRy-aR"
      },
      "outputs": [],
      "source": [
        "# 6. Realização de previsões com o conjunto de teste\n",
        "y_pred = mnb.predict(X_test_transformed)"
      ]
    },
    {
      "cell_type": "code",
      "execution_count": 45,
      "metadata": {
        "colab": {
          "base_uri": "https://localhost:8080/",
          "height": 855
        },
        "id": "ATtS-bDby-aS",
        "outputId": "b11a1b3a-6770-4e46-82bc-f5103373928a"
      },
      "outputs": [
        {
          "data": {
            "image/png": "[encoded data removed]",
            "text/plain": [
              "<Figure size 1000x700 with 2 Axes>"
            ]
          },
          "metadata": {},
          "output_type": "display_data"
        },
        {
          "name": "stdout",
          "output_type": "stream",
          "text": [
            "\n",
            "Relatório de Classificação Classificação de Spam:\n",
            "               precision    recall  f1-score   support\n",
            "\n",
            "           0       0.99      0.99      0.99      1278\n",
            "           1       0.98      0.97      0.97       441\n",
            "\n",
            "    accuracy                           0.99      1719\n",
            "   macro avg       0.98      0.98      0.98      1719\n",
            "weighted avg       0.99      0.99      0.99      1719\n",
            "\n"
          ]
        }
      ],
      "source": [
        "# Matriz de Confusão\n",
        "cm = confusion_matrix(y_test, y_pred)\n",
        "\n",
        "# Plotando a Matriz de Confusão com heatmap\n",
        "plt.figure(figsize=(10,7))\n",
        "sns.set(font_scale=1.4) # para definir o tamanho da fonte\n",
        "sns.heatmap(cm, annot=True, annot_kws={\"size\": 16}, cmap='Blues', fmt='g') # 'fmt' evita números científicos na matriz\n",
        "plt.ylabel('Valores Verdadeiros')\n",
        "plt.xlabel('Predições')\n",
        "plt.title('Matriz de Confusão')\n",
        "plt.show()\n",
        "\n",
        "print(\"\\nRelatório de Classificação Classificação de Spam:\\n\", classification_report(y_test, y_pred))"
      ]
    },
    {
      "cell_type": "markdown",
      "metadata": {
        "id": "1w5nCnBDy-aS"
      },
      "source": [
        "\n",
        "## 8.2. Naive Bayes em Análise de Sentimentos\n",
        "\n",
        "\n",
        "\n",
        "A análise de sentimentos trata de compreender as emoções por trás das palavras, e o Naive Bayes é uma ferramenta popular para isso.\n",
        "\n",
        "### Como funciona:\n",
        "\n",
        "1. **Treinamento do modelo:** Semelhante à detecção de spam, o modelo é treinado em um conjunto de dados contendo declarações classificadas com base no sentimento que expressam (por exemplo, positivo, negativo, neutro).\n",
        "\n",
        "2. **Classificação:** Para uma nova declaração, o modelo calcula a probabilidade de pertencer a uma determinada classe de sentimento com base nas palavras presentes.\n",
        "\n",
        "3. **Importância da nuance:** Ao contrário da detecção de spam, a análise de sentimentos pode ser mais sutil. Uma palavra que é neutra em um contexto pode ser positiva ou negativa em outro. Por exemplo, \"longo\" em \"longo dia\" pode ter uma conotação negativa, enquanto em \"longa vida\" tem uma conotação positiva.\n",
        "\n",
        "### Exemplo prático:"
      ]
    },
    {
      "cell_type": "code",
      "execution_count": 46,
      "metadata": {
        "id": "n2938jj0y-aS"
      },
      "outputs": [],
      "source": [
        "df = pd.read_csv('data/Corona_NLP.csv')"
      ]
    },
    {
      "cell_type": "code",
      "execution_count": 47,
      "metadata": {
        "colab": {
          "base_uri": "https://localhost:8080/",
          "height": 206
        },
        "id": "8eog5_rYy-aS",
        "outputId": "c8b1840d-95b1-4e01-a9c3-b41d76a53c07"
      },
      "outputs": [
        {
          "data": {
            "text/html": [
              "<div>\n",
              "<style scoped>\n",
              "    .dataframe tbody tr th:only-of-type {\n",
              "        vertical-align: middle;\n",
              "    }\n",
              "\n",
              "    .dataframe tbody tr th {\n",
              "        vertical-align: top;\n",
              "    }\n",
              "\n",
              "    .dataframe thead th {\n",
              "        text-align: right;\n",
              "    }\n",
              "</style>\n",
              "<table border=\"1\" class=\"dataframe\">\n",
              "  <thead>\n",
              "    <tr style=\"text-align: right;\">\n",
              "      <th></th>\n",
              "      <th>OriginalTweet</th>\n",
              "      <th>Sentiment</th>\n",
              "    </tr>\n",
              "  </thead>\n",
              "  <tbody>\n",
              "    <tr>\n",
              "      <th>0</th>\n",
              "      <td>TRENDING: New Yorkers encounter empty supermar...</td>\n",
              "      <td>Extremely Negative</td>\n",
              "    </tr>\n",
              "    <tr>\n",
              "      <th>1</th>\n",
              "      <td>When I couldn't find hand sanitizer at Fred Me...</td>\n",
              "      <td>Positive</td>\n",
              "    </tr>\n",
              "    <tr>\n",
              "      <th>2</th>\n",
              "      <td>Find out how you can protect yourself and love...</td>\n",
              "      <td>Extremely Positive</td>\n",
              "    </tr>\n",
              "    <tr>\n",
              "      <th>3</th>\n",
              "      <td>#Panic buying hits #NewYork City as anxious sh...</td>\n",
              "      <td>Negative</td>\n",
              "    </tr>\n",
              "    <tr>\n",
              "      <th>4</th>\n",
              "      <td>#toiletpaper #dunnypaper #coronavirus #coronav...</td>\n",
              "      <td>Neutral</td>\n",
              "    </tr>\n",
              "  </tbody>\n",
              "</table>\n",
              "</div>"
            ],
            "text/plain": [
              "                                       OriginalTweet           Sentiment\n",
              "0  TRENDING: New Yorkers encounter empty supermar...  Extremely Negative\n",
              "1  When I couldn't find hand sanitizer at Fred Me...            Positive\n",
              "2  Find out how you can protect yourself and love...  Extremely Positive\n",
              "3  #Panic buying hits #NewYork City as anxious sh...            Negative\n",
              "4  #toiletpaper #dunnypaper #coronavirus #coronav...             Neutral"
            ]
          },
          "execution_count": 47,
          "metadata": {},
          "output_type": "execute_result"
        }
      ],
      "source": [
        "df.head()"
      ]
    },
    {
      "cell_type": "code",
      "execution_count": 48,
      "metadata": {
        "id": "0LcQnDAAy-aS"
      },
      "outputs": [
        {
          "data": {
            "text/plain": [
              "Sentiment\n",
              "Negative              1041\n",
              "Positive               947\n",
              "Neutral                619\n",
              "Extremely Positive     599\n",
              "Extremely Negative     592\n",
              "Name: count, dtype: int64"
            ]
          },
          "execution_count": 48,
          "metadata": {},
          "output_type": "execute_result"
        }
      ],
      "source": [
        "df.Sentiment.value_counts()"
      ]
    },
    {
      "cell_type": "code",
      "execution_count": 49,
      "metadata": {
        "id": "g3x6ZXmEy-aS"
      },
      "outputs": [],
      "source": [
        "# Outra forma de Fazer\n",
        "# Define um dicionário para mapear os sentimentos para números\n",
        "sentiment_mapping = {\n",
        "    'Extremely Negative': 0,\n",
        "    'Negative': 1,\n",
        "    'Neutral': 2,\n",
        "    'Positive': 3,\n",
        "    'Extremely Positive': 4\n",
        "}\n",
        "\n",
        "# Use o método replace para aplicar o mapeamento\n",
        "df['Sentiment'] = df['Sentiment'].replace(sentiment_mapping)"
      ]
    },
    {
      "cell_type": "markdown",
      "metadata": {
        "id": "ldb-ybjly-aT"
      },
      "source": [
        "```Python\n",
        "# Como aprendemos\n",
        "df.loc[df['Sentiment'] == 'Extremely Negative', 'Sentiment'] = 0\n",
        "df.loc[df['Sentiment'] == 'Negative', 'Sentiment'] = 1\n",
        "df.loc[df['Sentiment'] == 'Neutral', 'Sentiment'] = 2\n",
        "df.loc[df['Sentiment'] == 'Positive', 'Sentiment'] = 3\n",
        "df.loc[df['Sentiment'] == 'Extremely Positive', 'Sentiment'] = 4\n",
        "df['Sentiment'] = df['Sentiment'].astype(int)\n",
        "```"
      ]
    },
    {
      "cell_type": "code",
      "execution_count": 50,
      "metadata": {
        "colab": {
          "base_uri": "https://localhost:8080/",
          "height": 53
        },
        "id": "i_cyG5M_y-aT",
        "outputId": "a5f19dfa-2a41-4ac3-eea3-b7840be21029"
      },
      "outputs": [
        {
          "data": {
            "text/plain": [
              "\"When I couldn't find hand sanitizer at Fred Meyer, I turned to #Amazon. But $114.97 for a 2 pack of Purell??!!Check out how  #coronavirus concerns are driving up prices. https://t.co/ygbipBflMY\""
            ]
          },
          "execution_count": 50,
          "metadata": {},
          "output_type": "execute_result"
        }
      ],
      "source": [
        "df.OriginalTweet[1]"
      ]
    },
    {
      "cell_type": "code",
      "execution_count": 51,
      "metadata": {
        "colab": {
          "base_uri": "https://localhost:8080/"
        },
        "id": "lp1RmaDey-aT",
        "outputId": "c6657cff-75c2-4c20-d55a-978ee8d42996"
      },
      "outputs": [
        {
          "data": {
            "text/plain": [
              "(3798, 2)"
            ]
          },
          "execution_count": 51,
          "metadata": {},
          "output_type": "execute_result"
        }
      ],
      "source": [
        "df.shape"
      ]
    },
    {
      "cell_type": "code",
      "execution_count": 52,
      "metadata": {
        "colab": {
          "base_uri": "https://localhost:8080/"
        },
        "id": "r0xPwDAMy-aT",
        "outputId": "f83eda5b-8ad8-474e-9858-742d7d189a7e"
      },
      "outputs": [
        {
          "name": "stdout",
          "output_type": "stream",
          "text": [
            "<class 'pandas.core.frame.DataFrame'>\n",
            "RangeIndex: 3798 entries, 0 to 3797\n",
            "Data columns (total 2 columns):\n",
            " #   Column         Non-Null Count  Dtype \n",
            "---  ------         --------------  ----- \n",
            " 0   OriginalTweet  3798 non-null   object\n",
            " 1   Sentiment      3798 non-null   int64 \n",
            "dtypes: int64(1), object(1)\n",
            "memory usage: 59.5+ KB\n"
          ]
        }
      ],
      "source": [
        "df.info()"
      ]
    },
    {
      "cell_type": "code",
      "execution_count": 53,
      "metadata": {
        "id": "J1sNSo0_y-aT"
      },
      "outputs": [],
      "source": [
        "# 2. Separação dos dados em X (text) e y (spam)\n",
        "X = df['OriginalTweet']\n",
        "y = df['Sentiment']"
      ]
    },
    {
      "cell_type": "code",
      "execution_count": 54,
      "metadata": {
        "id": "UAgQaMR4y-aT"
      },
      "outputs": [],
      "source": [
        "# 3. Divisão dos dados em conjuntos de treinamento e teste\n",
        "X_train, X_test, y_train, y_test = train_test_split(X, y, test_size=0.3, random_state=42)"
      ]
    },
    {
      "cell_type": "code",
      "execution_count": 55,
      "metadata": {
        "id": "a_JtvQuTy-aT"
      },
      "outputs": [],
      "source": [
        "# 4. Transformação dos textos em vetores numéricos\n",
        "vectorizer = CountVectorizer(stop_words='english')\n",
        "X_train_transformed = vectorizer.fit_transform(X_train)\n",
        "X_test_transformed = vectorizer.transform(X_test)"
      ]
    },
    {
      "cell_type": "code",
      "execution_count": 56,
      "metadata": {
        "id": "IAVECqRfy-aT"
      },
      "outputs": [
        {
          "data": {
            "text/html": [
              "<style>#sk-container-id-2 {\n",
              "  /* Definition of color scheme common for light and dark mode */\n",
              "  --sklearn-color-text: black;\n",
              "  --sklearn-color-line: gray;\n",
              "  /* Definition of color scheme for unfitted estimators */\n",
              "  --sklearn-color-unfitted-level-0: #fff5e6;\n",
              "  --sklearn-color-unfitted-level-1: #f6e4d2;\n",
              "  --sklearn-color-unfitted-level-2: #ffe0b3;\n",
              "  --sklearn-color-unfitted-level-3: chocolate;\n",
              "  /* Definition of color scheme for fitted estimators */\n",
              "  --sklearn-color-fitted-level-0: #f0f8ff;\n",
              "  --sklearn-color-fitted-level-1: #d4ebff;\n",
              "  --sklearn-color-fitted-level-2: #b3dbfd;\n",
              "  --sklearn-color-fitted-level-3: cornflowerblue;\n",
              "\n",
              "  /* Specific color for light theme */\n",
              "  --sklearn-color-text-on-default-background: var(--sg-text-color, var(--theme-code-foreground, var(--jp-content-font-color1, black)));\n",
              "  --sklearn-color-background: var(--sg-background-color, var(--theme-background, var(--jp-layout-color0, white)));\n",
              "  --sklearn-color-border-box: var(--sg-text-color, var(--theme-code-foreground, var(--jp-content-font-color1, black)));\n",
              "  --sklearn-color-icon: #696969;\n",
              "\n",
              "  @media (prefers-color-scheme: dark) {\n",
              "    /* Redefinition of color scheme for dark theme */\n",
              "    --sklearn-color-text-on-default-background: var(--sg-text-color, var(--theme-code-foreground, var(--jp-content-font-color1, white)));\n",
              "    --sklearn-color-background: var(--sg-background-color, var(--theme-background, var(--jp-layout-color0, #111)));\n",
              "    --sklearn-color-border-box: var(--sg-text-color, var(--theme-code-foreground, var(--jp-content-font-color1, white)));\n",
              "    --sklearn-color-icon: #878787;\n",
              "  }\n",
              "}\n",
              "\n",
              "#sk-container-id-2 {\n",
              "  color: var(--sklearn-color-text);\n",
              "}\n",
              "\n",
              "#sk-container-id-2 pre {\n",
              "  padding: 0;\n",
              "}\n",
              "\n",
              "#sk-container-id-2 input.sk-hidden--visually {\n",
              "  border: 0;\n",
              "  clip: rect(1px 1px 1px 1px);\n",
              "  clip: rect(1px, 1px, 1px, 1px);\n",
              "  height: 1px;\n",
              "  margin: -1px;\n",
              "  overflow: hidden;\n",
              "  padding: 0;\n",
              "  position: absolute;\n",
              "  width: 1px;\n",
              "}\n",
              "\n",
              "#sk-container-id-2 div.sk-dashed-wrapped {\n",
              "  border: 1px dashed var(--sklearn-color-line);\n",
              "  margin: 0 0.4em 0.5em 0.4em;\n",
              "  box-sizing: border-box;\n",
              "  padding-bottom: 0.4em;\n",
              "  background-color: var(--sklearn-color-background);\n",
              "}\n",
              "\n",
              "#sk-container-id-2 div.sk-container {\n",
              "  /* jupyter's `normalize.less` sets `[hidden] { display: none; }`\n",
              "     but bootstrap.min.css set `[hidden] { display: none !important; }`\n",
              "     so we also need the `!important` here to be able to override the\n",
              "     default hidden behavior on the sphinx rendered scikit-learn.org.\n",
              "     See: https://github.com/scikit-learn/scikit-learn/issues/21755 */\n",
              "  display: inline-block !important;\n",
              "  position: relative;\n",
              "}\n",
              "\n",
              "#sk-container-id-2 div.sk-text-repr-fallback {\n",
              "  display: none;\n",
              "}\n",
              "\n",
              "div.sk-parallel-item,\n",
              "div.sk-serial,\n",
              "div.sk-item {\n",
              "  /* draw centered vertical line to link estimators */\n",
              "  background-image: linear-gradient(var(--sklearn-color-text-on-default-background), var(--sklearn-color-text-on-default-background));\n",
              "  background-size: 2px 100%;\n",
              "  background-repeat: no-repeat;\n",
              "  background-position: center center;\n",
              "}\n",
              "\n",
              "/* Parallel-specific style estimator block */\n",
              "\n",
              "#sk-container-id-2 div.sk-parallel-item::after {\n",
              "  content: \"\";\n",
              "  width: 100%;\n",
              "  border-bottom: 2px solid var(--sklearn-color-text-on-default-background);\n",
              "  flex-grow: 1;\n",
              "}\n",
              "\n",
              "#sk-container-id-2 div.sk-parallel {\n",
              "  display: flex;\n",
              "  align-items: stretch;\n",
              "  justify-content: center;\n",
              "  background-color: var(--sklearn-color-background);\n",
              "  position: relative;\n",
              "}\n",
              "\n",
              "#sk-container-id-2 div.sk-parallel-item {\n",
              "  display: flex;\n",
              "  flex-direction: column;\n",
              "}\n",
              "\n",
              "#sk-container-id-2 div.sk-parallel-item:first-child::after {\n",
              "  align-self: flex-end;\n",
              "  width: 50%;\n",
              "}\n",
              "\n",
              "#sk-container-id-2 div.sk-parallel-item:last-child::after {\n",
              "  align-self: flex-start;\n",
              "  width: 50%;\n",
              "}\n",
              "\n",
              "#sk-container-id-2 div.sk-parallel-item:only-child::after {\n",
              "  width: 0;\n",
              "}\n",
              "\n",
              "/* Serial-specific style estimator block */\n",
              "\n",
              "#sk-container-id-2 div.sk-serial {\n",
              "  display: flex;\n",
              "  flex-direction: column;\n",
              "  align-items: center;\n",
              "  background-color: var(--sklearn-color-background);\n",
              "  padding-right: 1em;\n",
              "  padding-left: 1em;\n",
              "}\n",
              "\n",
              "\n",
              "/* Toggleable style: style used for estimator/Pipeline/ColumnTransformer box that is\n",
              "clickable and can be expanded/collapsed.\n",
              "- Pipeline and ColumnTransformer use this feature and define the default style\n",
              "- Estimators will overwrite some part of the style using the `sk-estimator` class\n",
              "*/\n",
              "\n",
              "/* Pipeline and ColumnTransformer style (default) */\n",
              "\n",
              "#sk-container-id-2 div.sk-toggleable {\n",
              "  /* Default theme specific background. It is overwritten whether we have a\n",
              "  specific estimator or a Pipeline/ColumnTransformer */\n",
              "  background-color: var(--sklearn-color-background);\n",
              "}\n",
              "\n",
              "/* Toggleable label */\n",
              "#sk-container-id-2 label.sk-toggleable__label {\n",
              "  cursor: pointer;\n",
              "  display: block;\n",
              "  width: 100%;\n",
              "  margin-bottom: 0;\n",
              "  padding: 0.5em;\n",
              "  box-sizing: border-box;\n",
              "  text-align: center;\n",
              "}\n",
              "\n",
              "#sk-container-id-2 label.sk-toggleable__label-arrow:before {\n",
              "  /* Arrow on the left of the label */\n",
              "  content: \"▸\";\n",
              "  float: left;\n",
              "  margin-right: 0.25em;\n",
              "  color: var(--sklearn-color-icon);\n",
              "}\n",
              "\n",
              "#sk-container-id-2 label.sk-toggleable__label-arrow:hover:before {\n",
              "  color: var(--sklearn-color-text);\n",
              "}\n",
              "\n",
              "/* Toggleable content - dropdown */\n",
              "\n",
              "#sk-container-id-2 div.sk-toggleable__content {\n",
              "  max-height: 0;\n",
              "  max-width: 0;\n",
              "  overflow: hidden;\n",
              "  text-align: left;\n",
              "  /* unfitted */\n",
              "  background-color: var(--sklearn-color-unfitted-level-0);\n",
              "}\n",
              "\n",
              "#sk-container-id-2 div.sk-toggleable__content.fitted {\n",
              "  /* fitted */\n",
              "  background-color: var(--sklearn-color-fitted-level-0);\n",
              "}\n",
              "\n",
              "#sk-container-id-2 div.sk-toggleable__content pre {\n",
              "  margin: 0.2em;\n",
              "  border-radius: 0.25em;\n",
              "  color: var(--sklearn-color-text);\n",
              "  /* unfitted */\n",
              "  background-color: var(--sklearn-color-unfitted-level-0);\n",
              "}\n",
              "\n",
              "#sk-container-id-2 div.sk-toggleable__content.fitted pre {\n",
              "  /* unfitted */\n",
              "  background-color: var(--sklearn-color-fitted-level-0);\n",
              "}\n",
              "\n",
              "#sk-container-id-2 input.sk-toggleable__control:checked~div.sk-toggleable__content {\n",
              "  /* Expand drop-down */\n",
              "  max-height: 200px;\n",
              "  max-width: 100%;\n",
              "  overflow: auto;\n",
              "}\n",
              "\n",
              "#sk-container-id-2 input.sk-toggleable__control:checked~label.sk-toggleable__label-arrow:before {\n",
              "  content: \"▾\";\n",
              "}\n",
              "\n",
              "/* Pipeline/ColumnTransformer-specific style */\n",
              "\n",
              "#sk-container-id-2 div.sk-label input.sk-toggleable__control:checked~label.sk-toggleable__label {\n",
              "  color: var(--sklearn-color-text);\n",
              "  background-color: var(--sklearn-color-unfitted-level-2);\n",
              "}\n",
              "\n",
              "#sk-container-id-2 div.sk-label.fitted input.sk-toggleable__control:checked~label.sk-toggleable__label {\n",
              "  background-color: var(--sklearn-color-fitted-level-2);\n",
              "}\n",
              "\n",
              "/* Estimator-specific style */\n",
              "\n",
              "/* Colorize estimator box */\n",
              "#sk-container-id-2 div.sk-estimator input.sk-toggleable__control:checked~label.sk-toggleable__label {\n",
              "  /* unfitted */\n",
              "  background-color: var(--sklearn-color-unfitted-level-2);\n",
              "}\n",
              "\n",
              "#sk-container-id-2 div.sk-estimator.fitted input.sk-toggleable__control:checked~label.sk-toggleable__label {\n",
              "  /* fitted */\n",
              "  background-color: var(--sklearn-color-fitted-level-2);\n",
              "}\n",
              "\n",
              "#sk-container-id-2 div.sk-label label.sk-toggleable__label,\n",
              "#sk-container-id-2 div.sk-label label {\n",
              "  /* The background is the default theme color */\n",
              "  color: var(--sklearn-color-text-on-default-background);\n",
              "}\n",
              "\n",
              "/* On hover, darken the color of the background */\n",
              "#sk-container-id-2 div.sk-label:hover label.sk-toggleable__label {\n",
              "  color: var(--sklearn-color-text);\n",
              "  background-color: var(--sklearn-color-unfitted-level-2);\n",
              "}\n",
              "\n",
              "/* Label box, darken color on hover, fitted */\n",
              "#sk-container-id-2 div.sk-label.fitted:hover label.sk-toggleable__label.fitted {\n",
              "  color: var(--sklearn-color-text);\n",
              "  background-color: var(--sklearn-color-fitted-level-2);\n",
              "}\n",
              "\n",
              "/* Estimator label */\n",
              "\n",
              "#sk-container-id-2 div.sk-label label {\n",
              "  font-family: monospace;\n",
              "  font-weight: bold;\n",
              "  display: inline-block;\n",
              "  line-height: 1.2em;\n",
              "}\n",
              "\n",
              "#sk-container-id-2 div.sk-label-container {\n",
              "  text-align: center;\n",
              "}\n",
              "\n",
              "/* Estimator-specific */\n",
              "#sk-container-id-2 div.sk-estimator {\n",
              "  font-family: monospace;\n",
              "  border: 1px dotted var(--sklearn-color-border-box);\n",
              "  border-radius: 0.25em;\n",
              "  box-sizing: border-box;\n",
              "  margin-bottom: 0.5em;\n",
              "  /* unfitted */\n",
              "  background-color: var(--sklearn-color-unfitted-level-0);\n",
              "}\n",
              "\n",
              "#sk-container-id-2 div.sk-estimator.fitted {\n",
              "  /* fitted */\n",
              "  background-color: var(--sklearn-color-fitted-level-0);\n",
              "}\n",
              "\n",
              "/* on hover */\n",
              "#sk-container-id-2 div.sk-estimator:hover {\n",
              "  /* unfitted */\n",
              "  background-color: var(--sklearn-color-unfitted-level-2);\n",
              "}\n",
              "\n",
              "#sk-container-id-2 div.sk-estimator.fitted:hover {\n",
              "  /* fitted */\n",
              "  background-color: var(--sklearn-color-fitted-level-2);\n",
              "}\n",
              "\n",
              "/* Specification for estimator info (e.g. \"i\" and \"?\") */\n",
              "\n",
              "/* Common style for \"i\" and \"?\" */\n",
              "\n",
              ".sk-estimator-doc-link,\n",
              "a:link.sk-estimator-doc-link,\n",
              "a:visited.sk-estimator-doc-link {\n",
              "  float: right;\n",
              "  font-size: smaller;\n",
              "  line-height: 1em;\n",
              "  font-family: monospace;\n",
              "  background-color: var(--sklearn-color-background);\n",
              "  border-radius: 1em;\n",
              "  height: 1em;\n",
              "  width: 1em;\n",
              "  text-decoration: none !important;\n",
              "  margin-left: 1ex;\n",
              "  /* unfitted */\n",
              "  border: var(--sklearn-color-unfitted-level-1) 1pt solid;\n",
              "  color: var(--sklearn-color-unfitted-level-1);\n",
              "}\n",
              "\n",
              ".sk-estimator-doc-link.fitted,\n",
              "a:link.sk-estimator-doc-link.fitted,\n",
              "a:visited.sk-estimator-doc-link.fitted {\n",
              "  /* fitted */\n",
              "  border: var(--sklearn-color-fitted-level-1) 1pt solid;\n",
              "  color: var(--sklearn-color-fitted-level-1);\n",
              "}\n",
              "\n",
              "/* On hover */\n",
              "div.sk-estimator:hover .sk-estimator-doc-link:hover,\n",
              ".sk-estimator-doc-link:hover,\n",
              "div.sk-label-container:hover .sk-estimator-doc-link:hover,\n",
              ".sk-estimator-doc-link:hover {\n",
              "  /* unfitted */\n",
              "  background-color: var(--sklearn-color-unfitted-level-3);\n",
              "  color: var(--sklearn-color-background);\n",
              "  text-decoration: none;\n",
              "}\n",
              "\n",
              "div.sk-estimator.fitted:hover .sk-estimator-doc-link.fitted:hover,\n",
              ".sk-estimator-doc-link.fitted:hover,\n",
              "div.sk-label-container:hover .sk-estimator-doc-link.fitted:hover,\n",
              ".sk-estimator-doc-link.fitted:hover {\n",
              "  /* fitted */\n",
              "  background-color: var(--sklearn-color-fitted-level-3);\n",
              "  color: var(--sklearn-color-background);\n",
              "  text-decoration: none;\n",
              "}\n",
              "\n",
              "/* Span, style for the box shown on hovering the info icon */\n",
              ".sk-estimator-doc-link span {\n",
              "  display: none;\n",
              "  z-index: 9999;\n",
              "  position: relative;\n",
              "  font-weight: normal;\n",
              "  right: .2ex;\n",
              "  padding: .5ex;\n",
              "  margin: .5ex;\n",
              "  width: min-content;\n",
              "  min-width: 20ex;\n",
              "  max-width: 50ex;\n",
              "  color: var(--sklearn-color-text);\n",
              "  box-shadow: 2pt 2pt 4pt #999;\n",
              "  /* unfitted */\n",
              "  background: var(--sklearn-color-unfitted-level-0);\n",
              "  border: .5pt solid var(--sklearn-color-unfitted-level-3);\n",
              "}\n",
              "\n",
              ".sk-estimator-doc-link.fitted span {\n",
              "  /* fitted */\n",
              "  background: var(--sklearn-color-fitted-level-0);\n",
              "  border: var(--sklearn-color-fitted-level-3);\n",
              "}\n",
              "\n",
              ".sk-estimator-doc-link:hover span {\n",
              "  display: block;\n",
              "}\n",
              "\n",
              "/* \"?\"-specific style due to the `<a>` HTML tag */\n",
              "\n",
              "#sk-container-id-2 a.estimator_doc_link {\n",
              "  float: right;\n",
              "  font-size: 1rem;\n",
              "  line-height: 1em;\n",
              "  font-family: monospace;\n",
              "  background-color: var(--sklearn-color-background);\n",
              "  border-radius: 1rem;\n",
              "  height: 1rem;\n",
              "  width: 1rem;\n",
              "  text-decoration: none;\n",
              "  /* unfitted */\n",
              "  color: var(--sklearn-color-unfitted-level-1);\n",
              "  border: var(--sklearn-color-unfitted-level-1) 1pt solid;\n",
              "}\n",
              "\n",
              "#sk-container-id-2 a.estimator_doc_link.fitted {\n",
              "  /* fitted */\n",
              "  border: var(--sklearn-color-fitted-level-1) 1pt solid;\n",
              "  color: var(--sklearn-color-fitted-level-1);\n",
              "}\n",
              "\n",
              "/* On hover */\n",
              "#sk-container-id-2 a.estimator_doc_link:hover {\n",
              "  /* unfitted */\n",
              "  background-color: var(--sklearn-color-unfitted-level-3);\n",
              "  color: var(--sklearn-color-background);\n",
              "  text-decoration: none;\n",
              "}\n",
              "\n",
              "#sk-container-id-2 a.estimator_doc_link.fitted:hover {\n",
              "  /* fitted */\n",
              "  background-color: var(--sklearn-color-fitted-level-3);\n",
              "}\n",
              "</style><div id=\"sk-container-id-2\" class=\"sk-top-container\"><div class=\"sk-text-repr-fallback\"><pre>MultinomialNB()</pre><b>In a Jupyter environment, please rerun this cell to show the HTML representation or trust the notebook. <br />On GitHub, the HTML representation is unable to render, please try loading this page with nbviewer.org.</b></div><div class=\"sk-container\" hidden><div class=\"sk-item\"><div class=\"sk-estimator fitted sk-toggleable\"><input class=\"sk-toggleable__control sk-hidden--visually\" id=\"sk-estimator-id-2\" type=\"checkbox\" checked><label for=\"sk-estimator-id-2\" class=\"sk-toggleable__label fitted sk-toggleable__label-arrow fitted\">&nbsp;&nbsp;MultinomialNB<a class=\"sk-estimator-doc-link fitted\" rel=\"noreferrer\" target=\"_blank\" href=\"https://scikit-learn.org/1.4/modules/generated/sklearn.naive_bayes.MultinomialNB.html\">?<span>Documentation for MultinomialNB</span></a><span class=\"sk-estimator-doc-link fitted\">i<span>Fitted</span></span></label><div class=\"sk-toggleable__content fitted\"><pre>MultinomialNB()</pre></div> </div></div></div></div>"
            ],
            "text/plain": [
              "MultinomialNB()"
            ]
          },
          "execution_count": 56,
          "metadata": {},
          "output_type": "execute_result"
        }
      ],
      "source": [
        "# 5. Treinamento do modelo MultinomialNB\n",
        "mnb = MultinomialNB()\n",
        "mnb.fit(X_train_transformed, y_train)"
      ]
    },
    {
      "cell_type": "code",
      "execution_count": 57,
      "metadata": {
        "id": "FzSi3ieoy-aU"
      },
      "outputs": [],
      "source": [
        "# 6. Realização de previsões com o conjunto de teste\n",
        "y_pred = mnb.predict(X_test_transformed)"
      ]
    },
    {
      "cell_type": "code",
      "execution_count": 58,
      "metadata": {
        "id": "fbRVdPhsy-aU"
      },
      "outputs": [
        {
          "data": {
            "image/png": "[encoded data removed]",
            "text/plain": [
              "<Figure size 1000x700 with 2 Axes>"
            ]
          },
          "metadata": {},
          "output_type": "display_data"
        },
        {
          "name": "stdout",
          "output_type": "stream",
          "text": [
            "\n",
            "Relatório de Classificação Classificação de Sentimentos:\n",
            "               precision    recall  f1-score   support\n",
            "\n",
            "           0       0.56      0.23      0.32       184\n",
            "           1       0.34      0.63      0.44       299\n",
            "           2       0.74      0.13      0.22       193\n",
            "           3       0.32      0.50      0.39       272\n",
            "           4       0.63      0.18      0.28       192\n",
            "\n",
            "    accuracy                           0.37      1140\n",
            "   macro avg       0.52      0.33      0.33      1140\n",
            "weighted avg       0.49      0.37      0.34      1140\n",
            "\n"
          ]
        }
      ],
      "source": [
        "# Matriz de Confusão\n",
        "cm = confusion_matrix(y_test, y_pred)\n",
        "\n",
        "# Plotando a Matriz de Confusão com heatmap\n",
        "plt.figure(figsize=(10,7))\n",
        "sns.set(font_scale=1.4) # para definir o tamanho da fonte\n",
        "sns.heatmap(cm, annot=True, annot_kws={\"size\": 16}, cmap='Blues', fmt='g') # 'fmt' evita números científicos na matriz\n",
        "plt.ylabel('Valores Verdadeiros')\n",
        "plt.xlabel('Predições')\n",
        "plt.title('Matriz de Confusão')\n",
        "plt.show()\n",
        "\n",
        "print(\"\\nRelatório de Classificação Classificação de Sentimentos:\\n\", classification_report(y_test, y_pred))"
      ]
    },
    {
      "cell_type": "markdown",
      "metadata": {
        "id": "j4g97zI6y-aU"
      },
      "source": [
        "# Exercícios"
      ]
    },
    {
      "cell_type": "markdown",
      "metadata": {
        "id": "GEDG-49dy-aU"
      },
      "source": [
        "## Exercício 1: Previsão de Diabetes usando Naive Bayes\n",
        "\n",
        "### Objetivo\n",
        "- Utilizar a base de dados `diabetes.csv` e o algoritmo Naive Bayes para prever se uma pessoa tem ou não diabetes.\n",
        "\n",
        "### Procedimentos\n",
        "\n",
        "#### 1.1. Leitura dos Dados\n",
        "- Leia o dataset `diabetes.csv`.\n"
      ]
    },
    {
      "cell_type": "code",
      "execution_count": 104,
      "metadata": {
        "id": "Bk2mL5EQy-aU"
      },
      "outputs": [],
      "source": [
        "df = pd.read_csv('data/diabetes.csv')\n"
      ]
    },
    {
      "cell_type": "code",
      "execution_count": 105,
      "metadata": {},
      "outputs": [
        {
          "data": {
            "text/html": [
              "<div>\n",
              "<style scoped>\n",
              "    .dataframe tbody tr th:only-of-type {\n",
              "        vertical-align: middle;\n",
              "    }\n",
              "\n",
              "    .dataframe tbody tr th {\n",
              "        vertical-align: top;\n",
              "    }\n",
              "\n",
              "    .dataframe thead th {\n",
              "        text-align: right;\n",
              "    }\n",
              "</style>\n",
              "<table border=\"1\" class=\"dataframe\">\n",
              "  <thead>\n",
              "    <tr style=\"text-align: right;\">\n",
              "      <th></th>\n",
              "      <th>glucose</th>\n",
              "      <th>bloodpressure</th>\n",
              "      <th>diabetes</th>\n",
              "    </tr>\n",
              "  </thead>\n",
              "  <tbody>\n",
              "    <tr>\n",
              "      <th>0</th>\n",
              "      <td>40</td>\n",
              "      <td>85</td>\n",
              "      <td>0</td>\n",
              "    </tr>\n",
              "    <tr>\n",
              "      <th>1</th>\n",
              "      <td>40</td>\n",
              "      <td>92</td>\n",
              "      <td>0</td>\n",
              "    </tr>\n",
              "    <tr>\n",
              "      <th>2</th>\n",
              "      <td>45</td>\n",
              "      <td>63</td>\n",
              "      <td>1</td>\n",
              "    </tr>\n",
              "    <tr>\n",
              "      <th>3</th>\n",
              "      <td>45</td>\n",
              "      <td>80</td>\n",
              "      <td>0</td>\n",
              "    </tr>\n",
              "    <tr>\n",
              "      <th>4</th>\n",
              "      <td>40</td>\n",
              "      <td>73</td>\n",
              "      <td>1</td>\n",
              "    </tr>\n",
              "  </tbody>\n",
              "</table>\n",
              "</div>"
            ],
            "text/plain": [
              "   glucose  bloodpressure  diabetes\n",
              "0       40             85         0\n",
              "1       40             92         0\n",
              "2       45             63         1\n",
              "3       45             80         0\n",
              "4       40             73         1"
            ]
          },
          "execution_count": 105,
          "metadata": {},
          "output_type": "execute_result"
        }
      ],
      "source": [
        "df.head()"
      ]
    },
    {
      "cell_type": "markdown",
      "metadata": {
        "id": "JN0m8Yzky-aU"
      },
      "source": [
        "\n",
        "#### 1.2. Separação dos Dados\n",
        "- Separe os dados em:\n",
        "  - `X` representando os atributos (colunas: `glucose` e `bloodpressure`).\n",
        "  - `y` representando a classe alvo (coluna: `diabetes`).\n"
      ]
    },
    {
      "cell_type": "code",
      "execution_count": 106,
      "metadata": {
        "id": "9myxG5Gry-aU"
      },
      "outputs": [],
      "source": [
        "X = df.drop('diabetes',axis=1)\n",
        "y = df['diabetes']\n"
      ]
    },
    {
      "cell_type": "markdown",
      "metadata": {
        "id": "QMkcJp6iy-aU"
      },
      "source": [
        "\n",
        "#### 1.3. Divisão dos Dados\n",
        "- Separe os dados em conjuntos de treinamento e teste, usando 85% dos dados para treinamento.\n"
      ]
    },
    {
      "cell_type": "code",
      "execution_count": 107,
      "metadata": {},
      "outputs": [],
      "source": [
        "from sklearn.model_selection import train_test_split\n",
        "\n",
        "X_train, X_test, y_train, y_test = train_test_split(X, y, test_size=0.85, random_state=42)"
      ]
    },
    {
      "cell_type": "markdown",
      "metadata": {
        "id": "Ae_0dAoHy-aV"
      },
      "source": [
        "\n",
        "#### 1.4. Normalização\n",
        "- Normalize os dados de `X` de treinamento utilizando o `StandardScaler`.\n",
        "- Utilize o scaler já ajustado nos dados de treinamento para normalizar os dados de `X` de teste.\n"
      ]
    },
    {
      "cell_type": "code",
      "execution_count": 108,
      "metadata": {
        "id": "1srmHeRHy-aV"
      },
      "outputs": [],
      "source": [
        "from sklearn.preprocessing import StandardScaler\n",
        "\n",
        "scaler = StandardScaler()\n",
        "\n",
        "X_train = scaler.fit_transform(X_train)\n",
        "X_test = scaler.fit_transform(X_test)\n"
      ]
    },
    {
      "cell_type": "markdown",
      "metadata": {
        "id": "Q9Vo29zBy-aV"
      },
      "source": [
        "\n",
        "#### 1.5. Treinamento do Modelo\n",
        "- Treine o modelo Naive Bayes utilizando o conjunto de treinamento.\n"
      ]
    },
    {
      "cell_type": "code",
      "execution_count": 109,
      "metadata": {
        "id": "VNjcQJh5y-aV"
      },
      "outputs": [],
      "source": [
        "from sklearn.naive_bayes import GaussianNB\n",
        "\n",
        "model_gaussian = GaussianNB().fit(X_train, y_train)\n"
      ]
    },
    {
      "cell_type": "markdown",
      "metadata": {
        "id": "7JEdiTmby-aV"
      },
      "source": [
        "\n",
        "#### 1.6. Avaliação do Modelo\n",
        "- Realize a previsão no X de teste.\n",
        "- Exiba a matriz de confusão.\n",
        "- Apresente as métricas de classificação.\n"
      ]
    },
    {
      "cell_type": "code",
      "execution_count": 110,
      "metadata": {
        "id": "3350PNGry-aV"
      },
      "outputs": [
        {
          "data": {
            "image/png": "[encoded data removed]",
            "text/plain": [
              "<Figure size 1000x700 with 2 Axes>"
            ]
          },
          "metadata": {},
          "output_type": "display_data"
        },
        {
          "name": "stdout",
          "output_type": "stream",
          "text": [
            "\n",
            "Relatório de Classificação de Diabetes:\n",
            "               precision    recall  f1-score   support\n",
            "\n",
            "           0       0.89      0.97      0.93       413\n",
            "           1       0.97      0.88      0.92       433\n",
            "\n",
            "    accuracy                           0.93       846\n",
            "   macro avg       0.93      0.93      0.93       846\n",
            "weighted avg       0.93      0.93      0.93       846\n",
            "\n"
          ]
        }
      ],
      "source": [
        "y_pred = model_gaussian.predict(X_test)\n",
        "\n",
        "# Matriz de Confusão\n",
        "cm = confusion_matrix(y_test, y_pred)\n",
        "\n",
        "# Plotando a Matriz de Confusão com heatmap\n",
        "plt.figure(figsize=(10,7))\n",
        "sns.set(font_scale=1.4) # para definir o tamanho da fonte\n",
        "sns.heatmap(cm, annot=True, annot_kws={\"size\": 16}, cmap='Blues', fmt='g') # 'fmt' evita números científicos na matriz\n",
        "plt.ylabel('Valores Verdadeiros')\n",
        "plt.xlabel('Predições')\n",
        "plt.title('Matriz de Confusão')\n",
        "plt.show()\n",
        "\n",
        "print(\"\\nRelatório de Classificação de Diabetes:\\n\", classification_report(y_test, y_pred))\n",
        "\n"
      ]
    },
    {
      "cell_type": "markdown",
      "metadata": {
        "id": "gsGHSamdy-aW"
      },
      "source": [
        "## Exercício 2: Previsão de Categorias de Produtos em E-commerce usando Naive Bayes\n",
        "\n",
        "### Descrição da Base de Dados:\n",
        "Este dataset de classificação baseado em E-commerce contém textos referentes a 4 categorias de produtos:\n",
        "- \"Eletrônicos\" (Electronics)\n",
        "- \"Itens Domésticos\" (Household)\n",
        "- \"Livros\" (Books)\n",
        "- \"Roupas e Acessórios\" (Clothing & Accessories)\n",
        "\n",
        "Estas categorias abrangem aproximadamente 80% dos produtos presentes em qualquer site de E-commerce.\n",
        "\n",
        "### Procedimentos:\n",
        "\n",
        "#### Objetivo:\n",
        "- Utilizar a base de dados `ecommerceDataset.csv` e o algoritmo Naive Bayes para prever a categoria de um produto.\n",
        "\n",
        "#### 2.1 Leitura e Separação dos Dados:\n",
        "- Leia o dataset `ecommerceDataset.csv`.\n",
        "- Separe os dados em:\n",
        "  - `X` representando os textos dos produtos.\n",
        "  - `y` representando a categoria dos produtos.\n"
      ]
    },
    {
      "cell_type": "code",
      "execution_count": 111,
      "metadata": {
        "id": "PT8hRvS8y-aW"
      },
      "outputs": [
        {
          "data": {
            "text/html": [
              "<div>\n",
              "<style scoped>\n",
              "    .dataframe tbody tr th:only-of-type {\n",
              "        vertical-align: middle;\n",
              "    }\n",
              "\n",
              "    .dataframe tbody tr th {\n",
              "        vertical-align: top;\n",
              "    }\n",
              "\n",
              "    .dataframe thead th {\n",
              "        text-align: right;\n",
              "    }\n",
              "</style>\n",
              "<table border=\"1\" class=\"dataframe\">\n",
              "  <thead>\n",
              "    <tr style=\"text-align: right;\">\n",
              "      <th></th>\n",
              "      <th>classe</th>\n",
              "      <th>texto</th>\n",
              "    </tr>\n",
              "  </thead>\n",
              "  <tbody>\n",
              "    <tr>\n",
              "      <th>0</th>\n",
              "      <td>Household</td>\n",
              "      <td>Paper Plane Design Framed Wall Hanging Motivat...</td>\n",
              "    </tr>\n",
              "    <tr>\n",
              "      <th>1</th>\n",
              "      <td>Household</td>\n",
              "      <td>SAF 'Floral' Framed Painting (Wood, 30 inch x ...</td>\n",
              "    </tr>\n",
              "    <tr>\n",
              "      <th>2</th>\n",
              "      <td>Household</td>\n",
              "      <td>SAF 'UV Textured Modern Art Print Framed' Pain...</td>\n",
              "    </tr>\n",
              "    <tr>\n",
              "      <th>3</th>\n",
              "      <td>Household</td>\n",
              "      <td>SAF Flower Print Framed Painting (Synthetic, 1...</td>\n",
              "    </tr>\n",
              "    <tr>\n",
              "      <th>4</th>\n",
              "      <td>Household</td>\n",
              "      <td>Incredible Gifts India Wooden Happy Birthday U...</td>\n",
              "    </tr>\n",
              "  </tbody>\n",
              "</table>\n",
              "</div>"
            ],
            "text/plain": [
              "      classe                                              texto\n",
              "0  Household  Paper Plane Design Framed Wall Hanging Motivat...\n",
              "1  Household  SAF 'Floral' Framed Painting (Wood, 30 inch x ...\n",
              "2  Household  SAF 'UV Textured Modern Art Print Framed' Pain...\n",
              "3  Household  SAF Flower Print Framed Painting (Synthetic, 1...\n",
              "4  Household  Incredible Gifts India Wooden Happy Birthday U..."
            ]
          },
          "execution_count": 111,
          "metadata": {},
          "output_type": "execute_result"
        }
      ],
      "source": [
        "df = pd.read_csv('data/ecommerceDataset.csv')\n",
        "\n",
        "df.head()\n"
      ]
    },
    {
      "cell_type": "code",
      "execution_count": 112,
      "metadata": {},
      "outputs": [
        {
          "data": {
            "text/plain": [
              "classe    0\n",
              "texto     1\n",
              "dtype: int64"
            ]
          },
          "execution_count": 112,
          "metadata": {},
          "output_type": "execute_result"
        }
      ],
      "source": [
        "df.isnull().sum()"
      ]
    },
    {
      "cell_type": "code",
      "execution_count": 113,
      "metadata": {},
      "outputs": [],
      "source": [
        "df.dropna(inplace=True)"
      ]
    },
    {
      "cell_type": "code",
      "execution_count": 114,
      "metadata": {},
      "outputs": [],
      "source": [
        "X = df['texto']\n",
        "y = df['classe']"
      ]
    },
    {
      "cell_type": "markdown",
      "metadata": {
        "id": "S3MVpvEBy-aW"
      },
      "source": [
        "\n",
        "#### 2.2 Divisão dos Dados:\n",
        "- Divida os dados em conjuntos de treinamento e teste, destinando 70% dos dados para o treinamento.\n"
      ]
    },
    {
      "cell_type": "code",
      "execution_count": 115,
      "metadata": {
        "id": "hh51_RMBy-aW"
      },
      "outputs": [],
      "source": [
        "from sklearn.model_selection import train_test_split\n",
        "\n",
        "X_train, X_test, y_train, y_test = train_test_split(X, y, test_size=0.7, random_state=42)\n"
      ]
    },
    {
      "cell_type": "markdown",
      "metadata": {
        "id": "ANOwLGgBy-aW"
      },
      "source": [
        "\n",
        "#### 2.3 Processamento de Textos:\n",
        "- Utilize a biblioteca `CountVectorizer` para transformar os textos em vetores numéricos.\n",
        "  - Aplique `fit_transform` nos dados de treinamento.\n",
        "  - Use `transform` nos dados de teste.\n"
      ]
    },
    {
      "cell_type": "code",
      "execution_count": 116,
      "metadata": {
        "id": "EJQpH6y6y-aW"
      },
      "outputs": [],
      "source": [
        "from sklearn.feature_extraction.text import CountVectorizer\n",
        "\n",
        "vectorizer = CountVectorizer()\n",
        "\n",
        "X_train = vectorizer.fit_transform(X_train)\n",
        "X_test = vectorizer.transform(X_test)\n"
      ]
    },
    {
      "cell_type": "markdown",
      "metadata": {
        "id": "ZEqiTk7ry-aW"
      },
      "source": [
        "\n",
        "#### 2.4 Treinamento e Previsão:\n",
        "- Treine o modelo Naive Bayes com o conjunto de treinamento.\n",
        "- Realize previsões com o modelo treinado usando os dados de teste.\n"
      ]
    },
    {
      "cell_type": "code",
      "execution_count": 117,
      "metadata": {
        "id": "Gi1UfFDQy-aX"
      },
      "outputs": [
        {
          "data": {
            "text/html": [
              "<style>#sk-container-id-4 {\n",
              "  /* Definition of color scheme common for light and dark mode */\n",
              "  --sklearn-color-text: black;\n",
              "  --sklearn-color-line: gray;\n",
              "  /* Definition of color scheme for unfitted estimators */\n",
              "  --sklearn-color-unfitted-level-0: #fff5e6;\n",
              "  --sklearn-color-unfitted-level-1: #f6e4d2;\n",
              "  --sklearn-color-unfitted-level-2: #ffe0b3;\n",
              "  --sklearn-color-unfitted-level-3: chocolate;\n",
              "  /* Definition of color scheme for fitted estimators */\n",
              "  --sklearn-color-fitted-level-0: #f0f8ff;\n",
              "  --sklearn-color-fitted-level-1: #d4ebff;\n",
              "  --sklearn-color-fitted-level-2: #b3dbfd;\n",
              "  --sklearn-color-fitted-level-3: cornflowerblue;\n",
              "\n",
              "  /* Specific color for light theme */\n",
              "  --sklearn-color-text-on-default-background: var(--sg-text-color, var(--theme-code-foreground, var(--jp-content-font-color1, black)));\n",
              "  --sklearn-color-background: var(--sg-background-color, var(--theme-background, var(--jp-layout-color0, white)));\n",
              "  --sklearn-color-border-box: var(--sg-text-color, var(--theme-code-foreground, var(--jp-content-font-color1, black)));\n",
              "  --sklearn-color-icon: #696969;\n",
              "\n",
              "  @media (prefers-color-scheme: dark) {\n",
              "    /* Redefinition of color scheme for dark theme */\n",
              "    --sklearn-color-text-on-default-background: var(--sg-text-color, var(--theme-code-foreground, var(--jp-content-font-color1, white)));\n",
              "    --sklearn-color-background: var(--sg-background-color, var(--theme-background, var(--jp-layout-color0, #111)));\n",
              "    --sklearn-color-border-box: var(--sg-text-color, var(--theme-code-foreground, var(--jp-content-font-color1, white)));\n",
              "    --sklearn-color-icon: #878787;\n",
              "  }\n",
              "}\n",
              "\n",
              "#sk-container-id-4 {\n",
              "  color: var(--sklearn-color-text);\n",
              "}\n",
              "\n",
              "#sk-container-id-4 pre {\n",
              "  padding: 0;\n",
              "}\n",
              "\n",
              "#sk-container-id-4 input.sk-hidden--visually {\n",
              "  border: 0;\n",
              "  clip: rect(1px 1px 1px 1px);\n",
              "  clip: rect(1px, 1px, 1px, 1px);\n",
              "  height: 1px;\n",
              "  margin: -1px;\n",
              "  overflow: hidden;\n",
              "  padding: 0;\n",
              "  position: absolute;\n",
              "  width: 1px;\n",
              "}\n",
              "\n",
              "#sk-container-id-4 div.sk-dashed-wrapped {\n",
              "  border: 1px dashed var(--sklearn-color-line);\n",
              "  margin: 0 0.4em 0.5em 0.4em;\n",
              "  box-sizing: border-box;\n",
              "  padding-bottom: 0.4em;\n",
              "  background-color: var(--sklearn-color-background);\n",
              "}\n",
              "\n",
              "#sk-container-id-4 div.sk-container {\n",
              "  /* jupyter's `normalize.less` sets `[hidden] { display: none; }`\n",
              "     but bootstrap.min.css set `[hidden] { display: none !important; }`\n",
              "     so we also need the `!important` here to be able to override the\n",
              "     default hidden behavior on the sphinx rendered scikit-learn.org.\n",
              "     See: https://github.com/scikit-learn/scikit-learn/issues/21755 */\n",
              "  display: inline-block !important;\n",
              "  position: relative;\n",
              "}\n",
              "\n",
              "#sk-container-id-4 div.sk-text-repr-fallback {\n",
              "  display: none;\n",
              "}\n",
              "\n",
              "div.sk-parallel-item,\n",
              "div.sk-serial,\n",
              "div.sk-item {\n",
              "  /* draw centered vertical line to link estimators */\n",
              "  background-image: linear-gradient(var(--sklearn-color-text-on-default-background), var(--sklearn-color-text-on-default-background));\n",
              "  background-size: 2px 100%;\n",
              "  background-repeat: no-repeat;\n",
              "  background-position: center center;\n",
              "}\n",
              "\n",
              "/* Parallel-specific style estimator block */\n",
              "\n",
              "#sk-container-id-4 div.sk-parallel-item::after {\n",
              "  content: \"\";\n",
              "  width: 100%;\n",
              "  border-bottom: 2px solid var(--sklearn-color-text-on-default-background);\n",
              "  flex-grow: 1;\n",
              "}\n",
              "\n",
              "#sk-container-id-4 div.sk-parallel {\n",
              "  display: flex;\n",
              "  align-items: stretch;\n",
              "  justify-content: center;\n",
              "  background-color: var(--sklearn-color-background);\n",
              "  position: relative;\n",
              "}\n",
              "\n",
              "#sk-container-id-4 div.sk-parallel-item {\n",
              "  display: flex;\n",
              "  flex-direction: column;\n",
              "}\n",
              "\n",
              "#sk-container-id-4 div.sk-parallel-item:first-child::after {\n",
              "  align-self: flex-end;\n",
              "  width: 50%;\n",
              "}\n",
              "\n",
              "#sk-container-id-4 div.sk-parallel-item:last-child::after {\n",
              "  align-self: flex-start;\n",
              "  width: 50%;\n",
              "}\n",
              "\n",
              "#sk-container-id-4 div.sk-parallel-item:only-child::after {\n",
              "  width: 0;\n",
              "}\n",
              "\n",
              "/* Serial-specific style estimator block */\n",
              "\n",
              "#sk-container-id-4 div.sk-serial {\n",
              "  display: flex;\n",
              "  flex-direction: column;\n",
              "  align-items: center;\n",
              "  background-color: var(--sklearn-color-background);\n",
              "  padding-right: 1em;\n",
              "  padding-left: 1em;\n",
              "}\n",
              "\n",
              "\n",
              "/* Toggleable style: style used for estimator/Pipeline/ColumnTransformer box that is\n",
              "clickable and can be expanded/collapsed.\n",
              "- Pipeline and ColumnTransformer use this feature and define the default style\n",
              "- Estimators will overwrite some part of the style using the `sk-estimator` class\n",
              "*/\n",
              "\n",
              "/* Pipeline and ColumnTransformer style (default) */\n",
              "\n",
              "#sk-container-id-4 div.sk-toggleable {\n",
              "  /* Default theme specific background. It is overwritten whether we have a\n",
              "  specific estimator or a Pipeline/ColumnTransformer */\n",
              "  background-color: var(--sklearn-color-background);\n",
              "}\n",
              "\n",
              "/* Toggleable label */\n",
              "#sk-container-id-4 label.sk-toggleable__label {\n",
              "  cursor: pointer;\n",
              "  display: block;\n",
              "  width: 100%;\n",
              "  margin-bottom: 0;\n",
              "  padding: 0.5em;\n",
              "  box-sizing: border-box;\n",
              "  text-align: center;\n",
              "}\n",
              "\n",
              "#sk-container-id-4 label.sk-toggleable__label-arrow:before {\n",
              "  /* Arrow on the left of the label */\n",
              "  content: \"▸\";\n",
              "  float: left;\n",
              "  margin-right: 0.25em;\n",
              "  color: var(--sklearn-color-icon);\n",
              "}\n",
              "\n",
              "#sk-container-id-4 label.sk-toggleable__label-arrow:hover:before {\n",
              "  color: var(--sklearn-color-text);\n",
              "}\n",
              "\n",
              "/* Toggleable content - dropdown */\n",
              "\n",
              "#sk-container-id-4 div.sk-toggleable__content {\n",
              "  max-height: 0;\n",
              "  max-width: 0;\n",
              "  overflow: hidden;\n",
              "  text-align: left;\n",
              "  /* unfitted */\n",
              "  background-color: var(--sklearn-color-unfitted-level-0);\n",
              "}\n",
              "\n",
              "#sk-container-id-4 div.sk-toggleable__content.fitted {\n",
              "  /* fitted */\n",
              "  background-color: var(--sklearn-color-fitted-level-0);\n",
              "}\n",
              "\n",
              "#sk-container-id-4 div.sk-toggleable__content pre {\n",
              "  margin: 0.2em;\n",
              "  border-radius: 0.25em;\n",
              "  color: var(--sklearn-color-text);\n",
              "  /* unfitted */\n",
              "  background-color: var(--sklearn-color-unfitted-level-0);\n",
              "}\n",
              "\n",
              "#sk-container-id-4 div.sk-toggleable__content.fitted pre {\n",
              "  /* unfitted */\n",
              "  background-color: var(--sklearn-color-fitted-level-0);\n",
              "}\n",
              "\n",
              "#sk-container-id-4 input.sk-toggleable__control:checked~div.sk-toggleable__content {\n",
              "  /* Expand drop-down */\n",
              "  max-height: 200px;\n",
              "  max-width: 100%;\n",
              "  overflow: auto;\n",
              "}\n",
              "\n",
              "#sk-container-id-4 input.sk-toggleable__control:checked~label.sk-toggleable__label-arrow:before {\n",
              "  content: \"▾\";\n",
              "}\n",
              "\n",
              "/* Pipeline/ColumnTransformer-specific style */\n",
              "\n",
              "#sk-container-id-4 div.sk-label input.sk-toggleable__control:checked~label.sk-toggleable__label {\n",
              "  color: var(--sklearn-color-text);\n",
              "  background-color: var(--sklearn-color-unfitted-level-2);\n",
              "}\n",
              "\n",
              "#sk-container-id-4 div.sk-label.fitted input.sk-toggleable__control:checked~label.sk-toggleable__label {\n",
              "  background-color: var(--sklearn-color-fitted-level-2);\n",
              "}\n",
              "\n",
              "/* Estimator-specific style */\n",
              "\n",
              "/* Colorize estimator box */\n",
              "#sk-container-id-4 div.sk-estimator input.sk-toggleable__control:checked~label.sk-toggleable__label {\n",
              "  /* unfitted */\n",
              "  background-color: var(--sklearn-color-unfitted-level-2);\n",
              "}\n",
              "\n",
              "#sk-container-id-4 div.sk-estimator.fitted input.sk-toggleable__control:checked~label.sk-toggleable__label {\n",
              "  /* fitted */\n",
              "  background-color: var(--sklearn-color-fitted-level-2);\n",
              "}\n",
              "\n",
              "#sk-container-id-4 div.sk-label label.sk-toggleable__label,\n",
              "#sk-container-id-4 div.sk-label label {\n",
              "  /* The background is the default theme color */\n",
              "  color: var(--sklearn-color-text-on-default-background);\n",
              "}\n",
              "\n",
              "/* On hover, darken the color of the background */\n",
              "#sk-container-id-4 div.sk-label:hover label.sk-toggleable__label {\n",
              "  color: var(--sklearn-color-text);\n",
              "  background-color: var(--sklearn-color-unfitted-level-2);\n",
              "}\n",
              "\n",
              "/* Label box, darken color on hover, fitted */\n",
              "#sk-container-id-4 div.sk-label.fitted:hover label.sk-toggleable__label.fitted {\n",
              "  color: var(--sklearn-color-text);\n",
              "  background-color: var(--sklearn-color-fitted-level-2);\n",
              "}\n",
              "\n",
              "/* Estimator label */\n",
              "\n",
              "#sk-container-id-4 div.sk-label label {\n",
              "  font-family: monospace;\n",
              "  font-weight: bold;\n",
              "  display: inline-block;\n",
              "  line-height: 1.2em;\n",
              "}\n",
              "\n",
              "#sk-container-id-4 div.sk-label-container {\n",
              "  text-align: center;\n",
              "}\n",
              "\n",
              "/* Estimator-specific */\n",
              "#sk-container-id-4 div.sk-estimator {\n",
              "  font-family: monospace;\n",
              "  border: 1px dotted var(--sklearn-color-border-box);\n",
              "  border-radius: 0.25em;\n",
              "  box-sizing: border-box;\n",
              "  margin-bottom: 0.5em;\n",
              "  /* unfitted */\n",
              "  background-color: var(--sklearn-color-unfitted-level-0);\n",
              "}\n",
              "\n",
              "#sk-container-id-4 div.sk-estimator.fitted {\n",
              "  /* fitted */\n",
              "  background-color: var(--sklearn-color-fitted-level-0);\n",
              "}\n",
              "\n",
              "/* on hover */\n",
              "#sk-container-id-4 div.sk-estimator:hover {\n",
              "  /* unfitted */\n",
              "  background-color: var(--sklearn-color-unfitted-level-2);\n",
              "}\n",
              "\n",
              "#sk-container-id-4 div.sk-estimator.fitted:hover {\n",
              "  /* fitted */\n",
              "  background-color: var(--sklearn-color-fitted-level-2);\n",
              "}\n",
              "\n",
              "/* Specification for estimator info (e.g. \"i\" and \"?\") */\n",
              "\n",
              "/* Common style for \"i\" and \"?\" */\n",
              "\n",
              ".sk-estimator-doc-link,\n",
              "a:link.sk-estimator-doc-link,\n",
              "a:visited.sk-estimator-doc-link {\n",
              "  float: right;\n",
              "  font-size: smaller;\n",
              "  line-height: 1em;\n",
              "  font-family: monospace;\n",
              "  background-color: var(--sklearn-color-background);\n",
              "  border-radius: 1em;\n",
              "  height: 1em;\n",
              "  width: 1em;\n",
              "  text-decoration: none !important;\n",
              "  margin-left: 1ex;\n",
              "  /* unfitted */\n",
              "  border: var(--sklearn-color-unfitted-level-1) 1pt solid;\n",
              "  color: var(--sklearn-color-unfitted-level-1);\n",
              "}\n",
              "\n",
              ".sk-estimator-doc-link.fitted,\n",
              "a:link.sk-estimator-doc-link.fitted,\n",
              "a:visited.sk-estimator-doc-link.fitted {\n",
              "  /* fitted */\n",
              "  border: var(--sklearn-color-fitted-level-1) 1pt solid;\n",
              "  color: var(--sklearn-color-fitted-level-1);\n",
              "}\n",
              "\n",
              "/* On hover */\n",
              "div.sk-estimator:hover .sk-estimator-doc-link:hover,\n",
              ".sk-estimator-doc-link:hover,\n",
              "div.sk-label-container:hover .sk-estimator-doc-link:hover,\n",
              ".sk-estimator-doc-link:hover {\n",
              "  /* unfitted */\n",
              "  background-color: var(--sklearn-color-unfitted-level-3);\n",
              "  color: var(--sklearn-color-background);\n",
              "  text-decoration: none;\n",
              "}\n",
              "\n",
              "div.sk-estimator.fitted:hover .sk-estimator-doc-link.fitted:hover,\n",
              ".sk-estimator-doc-link.fitted:hover,\n",
              "div.sk-label-container:hover .sk-estimator-doc-link.fitted:hover,\n",
              ".sk-estimator-doc-link.fitted:hover {\n",
              "  /* fitted */\n",
              "  background-color: var(--sklearn-color-fitted-level-3);\n",
              "  color: var(--sklearn-color-background);\n",
              "  text-decoration: none;\n",
              "}\n",
              "\n",
              "/* Span, style for the box shown on hovering the info icon */\n",
              ".sk-estimator-doc-link span {\n",
              "  display: none;\n",
              "  z-index: 9999;\n",
              "  position: relative;\n",
              "  font-weight: normal;\n",
              "  right: .2ex;\n",
              "  padding: .5ex;\n",
              "  margin: .5ex;\n",
              "  width: min-content;\n",
              "  min-width: 20ex;\n",
              "  max-width: 50ex;\n",
              "  color: var(--sklearn-color-text);\n",
              "  box-shadow: 2pt 2pt 4pt #999;\n",
              "  /* unfitted */\n",
              "  background: var(--sklearn-color-unfitted-level-0);\n",
              "  border: .5pt solid var(--sklearn-color-unfitted-level-3);\n",
              "}\n",
              "\n",
              ".sk-estimator-doc-link.fitted span {\n",
              "  /* fitted */\n",
              "  background: var(--sklearn-color-fitted-level-0);\n",
              "  border: var(--sklearn-color-fitted-level-3);\n",
              "}\n",
              "\n",
              ".sk-estimator-doc-link:hover span {\n",
              "  display: block;\n",
              "}\n",
              "\n",
              "/* \"?\"-specific style due to the `<a>` HTML tag */\n",
              "\n",
              "#sk-container-id-4 a.estimator_doc_link {\n",
              "  float: right;\n",
              "  font-size: 1rem;\n",
              "  line-height: 1em;\n",
              "  font-family: monospace;\n",
              "  background-color: var(--sklearn-color-background);\n",
              "  border-radius: 1rem;\n",
              "  height: 1rem;\n",
              "  width: 1rem;\n",
              "  text-decoration: none;\n",
              "  /* unfitted */\n",
              "  color: var(--sklearn-color-unfitted-level-1);\n",
              "  border: var(--sklearn-color-unfitted-level-1) 1pt solid;\n",
              "}\n",
              "\n",
              "#sk-container-id-4 a.estimator_doc_link.fitted {\n",
              "  /* fitted */\n",
              "  border: var(--sklearn-color-fitted-level-1) 1pt solid;\n",
              "  color: var(--sklearn-color-fitted-level-1);\n",
              "}\n",
              "\n",
              "/* On hover */\n",
              "#sk-container-id-4 a.estimator_doc_link:hover {\n",
              "  /* unfitted */\n",
              "  background-color: var(--sklearn-color-unfitted-level-3);\n",
              "  color: var(--sklearn-color-background);\n",
              "  text-decoration: none;\n",
              "}\n",
              "\n",
              "#sk-container-id-4 a.estimator_doc_link.fitted:hover {\n",
              "  /* fitted */\n",
              "  background-color: var(--sklearn-color-fitted-level-3);\n",
              "}\n",
              "</style><div id=\"sk-container-id-4\" class=\"sk-top-container\"><div class=\"sk-text-repr-fallback\"><pre>MultinomialNB()</pre><b>In a Jupyter environment, please rerun this cell to show the HTML representation or trust the notebook. <br />On GitHub, the HTML representation is unable to render, please try loading this page with nbviewer.org.</b></div><div class=\"sk-container\" hidden><div class=\"sk-item\"><div class=\"sk-estimator fitted sk-toggleable\"><input class=\"sk-toggleable__control sk-hidden--visually\" id=\"sk-estimator-id-4\" type=\"checkbox\" checked><label for=\"sk-estimator-id-4\" class=\"sk-toggleable__label fitted sk-toggleable__label-arrow fitted\">&nbsp;&nbsp;MultinomialNB<a class=\"sk-estimator-doc-link fitted\" rel=\"noreferrer\" target=\"_blank\" href=\"https://scikit-learn.org/1.4/modules/generated/sklearn.naive_bayes.MultinomialNB.html\">?<span>Documentation for MultinomialNB</span></a><span class=\"sk-estimator-doc-link fitted\">i<span>Fitted</span></span></label><div class=\"sk-toggleable__content fitted\"><pre>MultinomialNB()</pre></div> </div></div></div></div>"
            ],
            "text/plain": [
              "MultinomialNB()"
            ]
          },
          "execution_count": 117,
          "metadata": {},
          "output_type": "execute_result"
        }
      ],
      "source": [
        "from sklearn.naive_bayes import MultinomialNB\n",
        "\n",
        "model_multinomial = MultinomialNB()\n",
        "\n",
        "model_multinomial.fit(X_train, y_train)\n"
      ]
    },
    {
      "cell_type": "code",
      "execution_count": 118,
      "metadata": {},
      "outputs": [],
      "source": [
        "y_pred = model_multinomial.predict(X_test)"
      ]
    },
    {
      "cell_type": "markdown",
      "metadata": {
        "id": "vyoP2jluy-aX"
      },
      "source": [
        "\n",
        "#### 2.5 Avaliação do Modelo:\n",
        "- Exiba a matriz de confusão.\n",
        "- Mostre as métricas de classificação."
      ]
    },
    {
      "cell_type": "code",
      "execution_count": 119,
      "metadata": {
        "id": "iBvReGd2y-aX"
      },
      "outputs": [
        {
          "data": {
            "image/png": "[encoded data removed]",
            "text/plain": [
              "<Figure size 1000x700 with 2 Axes>"
            ]
          },
          "metadata": {},
          "output_type": "display_data"
        },
        {
          "name": "stdout",
          "output_type": "stream",
          "text": [
            "\n",
            "Relatório de Classificação de Produtos:\n",
            "                         precision    recall  f1-score   support\n",
            "\n",
            "                 Books       0.97      0.92      0.94      8180\n",
            "Clothing & Accessories       0.95      0.97      0.96      6117\n",
            "           Electronics       0.94      0.93      0.93      7490\n",
            "             Household       0.94      0.96      0.95     13510\n",
            "\n",
            "              accuracy                           0.95     35297\n",
            "             macro avg       0.95      0.95      0.95     35297\n",
            "          weighted avg       0.95      0.95      0.95     35297\n",
            "\n"
          ]
        }
      ],
      "source": [
        "# Matriz de Confusão\n",
        "cm = confusion_matrix(y_test, y_pred)\n",
        "\n",
        "# Plotando a Matriz de Confusão com heatmap\n",
        "plt.figure(figsize=(10,7))\n",
        "sns.set(font_scale=1.4) # para definir o tamanho da fonte\n",
        "sns.heatmap(cm, annot=True, annot_kws={\"size\": 16}, cmap='Blues', fmt='g') # 'fmt' evita números científicos na matriz\n",
        "plt.ylabel('Valores Verdadeiros')\n",
        "plt.xlabel('Predições')\n",
        "plt.title('Matriz de Confusão')\n",
        "plt.show()\n",
        "\n",
        "print(\"\\nRelatório de Classificação de Produtos:\\n\", classification_report(y_test, y_pred))\n"
      ]
    }
  ],
  "metadata": {
    "colab": {
      "provenance": []
    },
    "kernelspec": {
      "display_name": "tf",
      "language": "python",
      "name": "python3"
    },
    "language_info": {
      "codemirror_mode": {
        "name": "ipython",
        "version": 3
      },
      "file_extension": ".py",
      "mimetype": "text/x-python",
      "name": "python",
      "nbconvert_exporter": "python",
      "pygments_lexer": "ipython3",
      "version": "3.11.9"
    }
  },
  "nbformat": 4,
  "nbformat_minor": 0
}
